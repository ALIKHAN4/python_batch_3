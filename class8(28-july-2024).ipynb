{
 "cells": [
  {
   "cell_type": "markdown",
   "id": "92336c3f",
   "metadata": {},
   "source": [
    "# tuple\n",
    "- immutable"
   ]
  },
  {
   "cell_type": "code",
   "execution_count": 1,
   "id": "f69203fd",
   "metadata": {},
   "outputs": [],
   "source": [
    "cities = ('karachi', 'quetta', 'lahore')"
   ]
  },
  {
   "cell_type": "code",
   "execution_count": 3,
   "id": "8c153b8e",
   "metadata": {},
   "outputs": [
    {
     "data": {
      "text/plain": [
       "1"
      ]
     },
     "execution_count": 3,
     "metadata": {},
     "output_type": "execute_result"
    }
   ],
   "source": [
    "cities.count('karachi')"
   ]
  },
  {
   "cell_type": "code",
   "execution_count": 4,
   "id": "00bfbee2",
   "metadata": {},
   "outputs": [
    {
     "data": {
      "text/plain": [
       "0"
      ]
     },
     "execution_count": 4,
     "metadata": {},
     "output_type": "execute_result"
    }
   ],
   "source": [
    "cities.index('karachi')"
   ]
  },
  {
   "cell_type": "code",
   "execution_count": 5,
   "id": "34f92843",
   "metadata": {},
   "outputs": [
    {
     "data": {
      "text/plain": [
       "2"
      ]
     },
     "execution_count": 5,
     "metadata": {},
     "output_type": "execute_result"
    }
   ],
   "source": [
    "cities.index('lahore')"
   ]
  },
  {
   "cell_type": "code",
   "execution_count": 6,
   "id": "2c005299",
   "metadata": {},
   "outputs": [
    {
     "ename": "TypeError",
     "evalue": "'tuple' object does not support item assignment",
     "output_type": "error",
     "traceback": [
      "\u001b[1;31m---------------------------------------------------------------------------\u001b[0m",
      "\u001b[1;31mTypeError\u001b[0m                                 Traceback (most recent call last)",
      "Cell \u001b[1;32mIn[6], line 1\u001b[0m\n\u001b[1;32m----> 1\u001b[0m cities[\u001b[38;5;241m0\u001b[39m] \u001b[38;5;241m=\u001b[39m \u001b[38;5;124m'\u001b[39m\u001b[38;5;124mchakwal\u001b[39m\u001b[38;5;124m'\u001b[39m\n",
      "\u001b[1;31mTypeError\u001b[0m: 'tuple' object does not support item assignment"
     ]
    }
   ],
   "source": [
    "cities[0] = 'chakwal'"
   ]
  },
  {
   "cell_type": "markdown",
   "id": "39c55b2e",
   "metadata": {},
   "source": [
    "- Immutable data structure"
   ]
  },
  {
   "cell_type": "code",
   "execution_count": 7,
   "id": "19d10fa0",
   "metadata": {},
   "outputs": [
    {
     "data": {
      "text/plain": [
       "('karachi', 'quetta', 'lahore')"
      ]
     },
     "execution_count": 7,
     "metadata": {},
     "output_type": "execute_result"
    }
   ],
   "source": [
    "cities"
   ]
  },
  {
   "cell_type": "code",
   "execution_count": 8,
   "id": "c3af8407",
   "metadata": {},
   "outputs": [],
   "source": [
    "a = cities[0]"
   ]
  },
  {
   "cell_type": "code",
   "execution_count": 9,
   "id": "3c9201d9",
   "metadata": {},
   "outputs": [
    {
     "data": {
      "text/plain": [
       "'karachi'"
      ]
     },
     "execution_count": 9,
     "metadata": {},
     "output_type": "execute_result"
    }
   ],
   "source": [
    "a"
   ]
  },
  {
   "cell_type": "code",
   "execution_count": 10,
   "id": "89ee5209",
   "metadata": {},
   "outputs": [
    {
     "data": {
      "text/plain": [
       "('karachi', 'quetta', 'lahore')"
      ]
     },
     "execution_count": 10,
     "metadata": {},
     "output_type": "execute_result"
    }
   ],
   "source": [
    "cities"
   ]
  },
  {
   "cell_type": "markdown",
   "id": "5684c0af",
   "metadata": {},
   "source": [
    "# unpacking"
   ]
  },
  {
   "cell_type": "code",
   "execution_count": 11,
   "id": "da34f813",
   "metadata": {},
   "outputs": [],
   "source": [
    "a,b,c = cities"
   ]
  },
  {
   "cell_type": "code",
   "execution_count": 12,
   "id": "7eeceb29",
   "metadata": {},
   "outputs": [
    {
     "name": "stdout",
     "output_type": "stream",
     "text": [
      "karachi\n",
      "quetta\n",
      "lahore\n"
     ]
    }
   ],
   "source": [
    "print(a)\n",
    "print(b)\n",
    "print(c)"
   ]
  },
  {
   "cell_type": "code",
   "execution_count": 13,
   "id": "5ebae163",
   "metadata": {},
   "outputs": [
    {
     "data": {
      "text/plain": [
       "('karachi', 'quetta', 'lahore')"
      ]
     },
     "execution_count": 13,
     "metadata": {},
     "output_type": "execute_result"
    }
   ],
   "source": [
    "cities"
   ]
  },
  {
   "cell_type": "code",
   "execution_count": 14,
   "id": "618d44a3",
   "metadata": {},
   "outputs": [
    {
     "data": {
      "text/plain": [
       "str"
      ]
     },
     "execution_count": 14,
     "metadata": {},
     "output_type": "execute_result"
    }
   ],
   "source": [
    "type(a)"
   ]
  },
  {
   "cell_type": "code",
   "execution_count": 15,
   "id": "63fc9792",
   "metadata": {},
   "outputs": [
    {
     "ename": "ValueError",
     "evalue": "not enough values to unpack (expected 4, got 3)",
     "output_type": "error",
     "traceback": [
      "\u001b[1;31m---------------------------------------------------------------------------\u001b[0m",
      "\u001b[1;31mValueError\u001b[0m                                Traceback (most recent call last)",
      "Cell \u001b[1;32mIn[15], line 1\u001b[0m\n\u001b[1;32m----> 1\u001b[0m a,b,c,d \u001b[38;5;241m=\u001b[39m cities\n",
      "\u001b[1;31mValueError\u001b[0m: not enough values to unpack (expected 4, got 3)"
     ]
    }
   ],
   "source": [
    "a,b,c,d = cities"
   ]
  },
  {
   "cell_type": "code",
   "execution_count": 16,
   "id": "6196d46d",
   "metadata": {},
   "outputs": [
    {
     "ename": "ValueError",
     "evalue": "too many values to unpack (expected 2)",
     "output_type": "error",
     "traceback": [
      "\u001b[1;31m---------------------------------------------------------------------------\u001b[0m",
      "\u001b[1;31mValueError\u001b[0m                                Traceback (most recent call last)",
      "Cell \u001b[1;32mIn[16], line 1\u001b[0m\n\u001b[1;32m----> 1\u001b[0m a,c  \u001b[38;5;241m=\u001b[39m cities\n",
      "\u001b[1;31mValueError\u001b[0m: too many values to unpack (expected 2)"
     ]
    }
   ],
   "source": [
    "a,c  = cities"
   ]
  },
  {
   "cell_type": "code",
   "execution_count": 24,
   "id": "63fe91d7",
   "metadata": {},
   "outputs": [
    {
     "name": "stdout",
     "output_type": "stream",
     "text": [
      "('karachi', 'quetta', 'lahore')\n"
     ]
    }
   ],
   "source": [
    "a, *b = cities\n",
    "print(cities)"
   ]
  },
  {
   "cell_type": "code",
   "execution_count": 27,
   "id": "3c748e25",
   "metadata": {},
   "outputs": [
    {
     "name": "stdout",
     "output_type": "stream",
     "text": [
      "('karachi', 'quetta', 'lahore')\n",
      "karachi\n",
      "[]\n",
      "quetta\n",
      "lahore\n"
     ]
    }
   ],
   "source": [
    "a, *b, c, d = cities\n",
    "\n",
    "print(cities)\n",
    "print(a)\n",
    "print(b)\n",
    "print(c)\n",
    "print(d)"
   ]
  },
  {
   "cell_type": "markdown",
   "id": "1830348e",
   "metadata": {},
   "source": [
    "# Sets\n",
    "\n",
    "- mutable"
   ]
  },
  {
   "cell_type": "code",
   "execution_count": 28,
   "id": "1a511286",
   "metadata": {},
   "outputs": [],
   "source": [
    "colors = {'blue', 'yellow', 'yellow', 'pink'}"
   ]
  },
  {
   "cell_type": "code",
   "execution_count": 43,
   "id": "8abca118",
   "metadata": {},
   "outputs": [
    {
     "data": {
      "text/plain": [
       "{'blue', 'pink', 'yellow'}"
      ]
     },
     "execution_count": 43,
     "metadata": {},
     "output_type": "execute_result"
    }
   ],
   "source": [
    "colors"
   ]
  },
  {
   "cell_type": "code",
   "execution_count": 34,
   "id": "e650bbc7",
   "metadata": {},
   "outputs": [],
   "source": [
    "new_set = {}"
   ]
  },
  {
   "cell_type": "code",
   "execution_count": 44,
   "id": "4b4ecd30",
   "metadata": {},
   "outputs": [],
   "source": [
    "sets = {2,5,4,3}"
   ]
  },
  {
   "cell_type": "code",
   "execution_count": 45,
   "id": "a5ec90cb",
   "metadata": {},
   "outputs": [
    {
     "data": {
      "text/plain": [
       "{2, 3, 4, 5}"
      ]
     },
     "execution_count": 45,
     "metadata": {},
     "output_type": "execute_result"
    }
   ],
   "source": [
    "sets"
   ]
  },
  {
   "cell_type": "markdown",
   "id": "02cac555",
   "metadata": {},
   "source": [
    "# Loops"
   ]
  },
  {
   "cell_type": "code",
   "execution_count": 46,
   "id": "3d366073",
   "metadata": {},
   "outputs": [
    {
     "name": "stdout",
     "output_type": "stream",
     "text": [
      "ali khan\n",
      "ali khan\n",
      "ali khan\n",
      "ali khan\n",
      "ali khan\n"
     ]
    }
   ],
   "source": [
    "print('ali khan')\n",
    "print('ali khan')\n",
    "print('ali khan')\n",
    "print('ali khan')\n",
    "print('ali khan')"
   ]
  },
  {
   "cell_type": "markdown",
   "id": "e16d85e1",
   "metadata": {},
   "source": [
    "## for loop"
   ]
  },
  {
   "cell_type": "code",
   "execution_count": 47,
   "id": "98ef94be",
   "metadata": {},
   "outputs": [],
   "source": [
    "# for varibale in iterable:\n",
    "#     body"
   ]
  },
  {
   "cell_type": "code",
   "execution_count": 53,
   "id": "3346ff16",
   "metadata": {},
   "outputs": [
    {
     "name": "stdout",
     "output_type": "stream",
     "text": [
      "1. ali khan\n",
      "2. ali khan\n",
      "3. ali khan\n",
      "4. ali khan\n",
      "5. ali khan\n",
      "6. ali khan\n",
      "7. ali khan\n",
      "8. ali khan\n",
      "9. ali khan\n",
      "10. ali khan\n"
     ]
    }
   ],
   "source": [
    "for i in range(10):\n",
    "    print(f'{i+1}. ali khan')\n"
   ]
  },
  {
   "cell_type": "code",
   "execution_count": 58,
   "id": "9beb05e9",
   "metadata": {},
   "outputs": [
    {
     "name": "stdout",
     "output_type": "stream",
     "text": [
      "1 ali khan\n",
      "2 ali khan\n",
      "3 ali khan\n",
      "4 ali khan\n",
      "5 ali khan\n",
      "6 ali khan\n",
      "7 ali khan\n",
      "8 ali khan\n",
      "9 ali khan\n",
      "10 ali khan\n"
     ]
    }
   ],
   "source": [
    "# for i in range(start, end+1)\n",
    "for i in range(1,11): #range(1,11) iterable\n",
    "    print(i,'ali khan')"
   ]
  },
  {
   "cell_type": "code",
   "execution_count": 63,
   "id": "e9bdc037",
   "metadata": {},
   "outputs": [
    {
     "name": "stdout",
     "output_type": "stream",
     "text": [
      "2 ali khan\n",
      "4 ali khan\n",
      "6 ali khan\n",
      "8 ali khan\n",
      "10 ali khan\n"
     ]
    }
   ],
   "source": [
    "for i in range(2,11,2):\n",
    "    print(i,'ali khan')"
   ]
  },
  {
   "cell_type": "code",
   "execution_count": 64,
   "id": "cb7f599f",
   "metadata": {},
   "outputs": [
    {
     "name": "stdout",
     "output_type": "stream",
     "text": [
      "1\n",
      "3\n",
      "5\n",
      "7\n",
      "9\n"
     ]
    }
   ],
   "source": [
    "# print only odd nos from 1 to 10\n",
    "\n",
    "for i in range(1,11,2):\n",
    "    print(i)"
   ]
  },
  {
   "cell_type": "code",
   "execution_count": 67,
   "id": "f55fc7c1",
   "metadata": {},
   "outputs": [
    {
     "name": "stdout",
     "output_type": "stream",
     "text": [
      "3\n",
      "9\n",
      "15\n"
     ]
    }
   ],
   "source": [
    "for i in range(1,21):\n",
    "    if i % 3 == 0 and i % 2 != 0:\n",
    "        print(i)\n",
    "    "
   ]
  },
  {
   "cell_type": "code",
   "execution_count": 69,
   "id": "ee2f523b",
   "metadata": {},
   "outputs": [
    {
     "name": "stdout",
     "output_type": "stream",
     "text": [
      "3\n",
      "9\n",
      "15\n"
     ]
    }
   ],
   "source": [
    "for i in range(1,21):\n",
    "    if i % 3 == 0:\n",
    "        if i % 2 != 0:\n",
    "            print(i)"
   ]
  },
  {
   "cell_type": "code",
   "execution_count": 70,
   "id": "3af4706e",
   "metadata": {},
   "outputs": [
    {
     "name": "stdout",
     "output_type": "stream",
     "text": [
      "1\n",
      "3\n",
      "5\n",
      "6\n",
      "7\n",
      "9\n",
      "11\n",
      "12\n",
      "13\n",
      "15\n",
      "17\n",
      "18\n",
      "19\n"
     ]
    }
   ],
   "source": [
    "for i in range(1,21):\n",
    "    if i % 3 == 0 or i % 2 != 0:\n",
    "        print(i)\n",
    "    "
   ]
  },
  {
   "cell_type": "code",
   "execution_count": 71,
   "id": "112cd750",
   "metadata": {},
   "outputs": [
    {
     "name": "stdout",
     "output_type": "stream",
     "text": [
      "1\n",
      "3\n",
      "5\n",
      "6\n",
      "7\n",
      "9\n",
      "11\n",
      "12\n",
      "13\n",
      "15\n",
      "17\n",
      "18\n",
      "19\n"
     ]
    }
   ],
   "source": [
    "for i in range(1,21):\n",
    "    if i % 3 == 0:\n",
    "        print(i)\n",
    "    \n",
    "    elif i % 2 != 0:\n",
    "        print(i)"
   ]
  },
  {
   "cell_type": "code",
   "execution_count": 75,
   "id": "fda73bf9",
   "metadata": {},
   "outputs": [],
   "source": [
    "countries = ('Pakistan', 'Nepal', 'USA')"
   ]
  },
  {
   "cell_type": "markdown",
   "id": "29283247",
   "metadata": {},
   "source": [
    "## Nested loops"
   ]
  },
  {
   "cell_type": "code",
   "execution_count": 77,
   "id": "32ae274f",
   "metadata": {},
   "outputs": [
    {
     "name": "stdout",
     "output_type": "stream",
     "text": [
      "Pakistan : karachi\n",
      "Nepal : karachi\n",
      "USA : karachi\n",
      "Pakistan : quetta\n",
      "Nepal : quetta\n",
      "USA : quetta\n",
      "Pakistan : lahore\n",
      "Nepal : lahore\n",
      "USA : lahore\n"
     ]
    }
   ],
   "source": [
    "for city in cities:\n",
    "    for country in countries:\n",
    "        print(f'{country} : {city}')"
   ]
  },
  {
   "cell_type": "code",
   "execution_count": 78,
   "id": "0f8411d0",
   "metadata": {},
   "outputs": [],
   "source": [
    "# write a program that accepts a list of numbers and separates the even and odd no's.\n",
    "# Hint: you can create two list for even and odd numbers"
   ]
  },
  {
   "cell_type": "code",
   "execution_count": 79,
   "id": "3724d19d",
   "metadata": {},
   "outputs": [
    {
     "name": "stdout",
     "output_type": "stream",
     "text": [
      "[2, 4, 6, 8, 10]\n",
      "[1, 3, 5, 7, 9]\n"
     ]
    }
   ],
   "source": [
    "numbers = [1,2,3,4,5,6,7,8,9,10]\n",
    "even = []\n",
    "odd = []\n",
    "\n",
    "for num in numbers:\n",
    "    if num % 2 ==0:\n",
    "        even.append(num)\n",
    "    else:\n",
    "        odd.append(num)\n",
    "        \n",
    "print(even)\n",
    "print(odd)"
   ]
  },
  {
   "cell_type": "code",
   "execution_count": 80,
   "id": "b9d53d4e",
   "metadata": {},
   "outputs": [],
   "source": [
    "cities_details = {\n",
    "    'karachi': 'Pakistan', \n",
    "    'Chakwal': 'Pakistan',\n",
    "    'Lahore': 'Pakistan',\n",
    "    'Istanbul': 'Turkey', \n",
    "    'Bursa': 'Turkey', \n",
    "    'California': 'USA', \n",
    "    'Captown': 'South Africa'\n",
    "}\n",
    "cities_details"
   ]
  },
  {
   "cell_type": "code",
   "execution_count": 82,
   "id": "d780b82b",
   "metadata": {},
   "outputs": [
    {
     "name": "stdout",
     "output_type": "stream",
     "text": [
      "['karachi', 'Chakwal', 'Lahore']\n"
     ]
    }
   ],
   "source": [
    "pak_cities = []\n",
    "for i in cities_details:\n",
    "    if cities_details.get(i) == 'Pakistan':\n",
    "        pak_cities.append(i)\n",
    "        \n",
    "print(pak_cities)"
   ]
  },
  {
   "cell_type": "code",
   "execution_count": null,
   "id": "e087c5bc",
   "metadata": {},
   "outputs": [],
   "source": [
    "pak_cities = []\n",
    "for i in cities_details:\n",
    "    if cities_details[i] == 'Pakistan':\n",
    "        pak_cities.append(i)\n",
    "        \n",
    "print(pak_cities)"
   ]
  },
  {
   "cell_type": "code",
   "execution_count": 85,
   "id": "2c0fadf7",
   "metadata": {},
   "outputs": [
    {
     "name": "stdout",
     "output_type": "stream",
     "text": [
      "Pakistan\n",
      "Pakistan\n"
     ]
    }
   ],
   "source": [
    "print(cities_details['karachi'])\n",
    "print(cities_details.get('karachi'))"
   ]
  },
  {
   "cell_type": "code",
   "execution_count": null,
   "id": "410f6c4d",
   "metadata": {},
   "outputs": [],
   "source": [
    "new_dict = {\n",
    "    'Pakistan': ['Chakwal', 'Lahore'], \n",
    "    'USA': ['California', 'Texax', 'Chicago']\n",
    "}\n",
    "new_dict"
   ]
  },
  {
   "cell_type": "code",
   "execution_count": 88,
   "id": "0a1e6eab",
   "metadata": {},
   "outputs": [
    {
     "name": "stdout",
     "output_type": "stream",
     "text": [
      "{'Pakistan': 'Lahore', 'USA': 'California'}\n"
     ]
    }
   ],
   "source": [
    "latest_dic = {}\n",
    "\n",
    "for i in cities_details:\n",
    "    if cities_details.get(i) == 'Pakistan':\n",
    "        latest_dic.update({'Pakistan':i}) \n",
    "    elif cities_details.get(i) == 'USA':\n",
    "        latest_dic.update({'USA':i})\n",
    "        \n",
    "print(latest_dic)\n"
   ]
  },
  {
   "cell_type": "code",
   "execution_count": null,
   "id": "8c25e495",
   "metadata": {},
   "outputs": [],
   "source": [
    "# input\n",
    "{\n",
    "    'karachi': 'Pakistan', \n",
    "    'Chakwal': 'Pakistan',\n",
    "    'Lahore': 'Pakistan',\n",
    "    'Istanbul': 'Turkey', \n",
    "    'Bursa': 'Turkey', \n",
    "    'California': 'USA', \n",
    "    'Captown': 'South Africa'\n",
    "}\n",
    "\n",
    "# output\n",
    "{\n",
    "    'Pakistan': ['Chakwal', 'Lahore'], \n",
    "    'USA': ['California', 'Texax', 'Chicago']\n",
    "}\n"
   ]
  },
  {
   "cell_type": "code",
   "execution_count": null,
   "id": "d95a4cd9",
   "metadata": {},
   "outputs": [],
   "source": []
  },
  {
   "cell_type": "code",
   "execution_count": null,
   "id": "b826cd60",
   "metadata": {},
   "outputs": [],
   "source": []
  }
 ],
 "metadata": {
  "kernelspec": {
   "display_name": "Python 3 (ipykernel)",
   "language": "python",
   "name": "python3"
  },
  "language_info": {
   "codemirror_mode": {
    "name": "ipython",
    "version": 3
   },
   "file_extension": ".py",
   "mimetype": "text/x-python",
   "name": "python",
   "nbconvert_exporter": "python",
   "pygments_lexer": "ipython3",
   "version": "3.11.5"
  }
 },
 "nbformat": 4,
 "nbformat_minor": 5
}
