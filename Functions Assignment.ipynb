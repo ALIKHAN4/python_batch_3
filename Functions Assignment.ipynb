{
 "cells": [
  {
   "cell_type": "markdown",
   "id": "5c5ef51c",
   "metadata": {},
   "source": [
    "# Functions Assignments"
   ]
  },
  {
   "cell_type": "markdown",
   "id": "c548a3bf",
   "metadata": {},
   "source": [
    "## Define a function named addition that takes two parameters a and b and returns their sum.\n",
    "\n",
    "- Input: addition(3, 5)\n",
    "- Output: 8"
   ]
  },
  {
   "cell_type": "code",
   "execution_count": 28,
   "id": "c404ff8d",
   "metadata": {},
   "outputs": [
    {
     "data": {
      "text/plain": [
       "8"
      ]
     },
     "execution_count": 28,
     "metadata": {},
     "output_type": "execute_result"
    }
   ],
   "source": [
    "def addition(a,b):\n",
    "    c = a+b\n",
    "    return c\n",
    "\n",
    "addition(3,5)"
   ]
  },
  {
   "cell_type": "markdown",
   "id": "edbcab81",
   "metadata": {},
   "source": [
    "## Write a function called multiply that accepts two arguments and returns the result of multiplying them together.\n",
    "\n",
    "- Input: multiply(4, 6)\n",
    "- Output: 24"
   ]
  },
  {
   "cell_type": "code",
   "execution_count": 29,
   "id": "7aceae84",
   "metadata": {},
   "outputs": [
    {
     "data": {
      "text/plain": [
       "15"
      ]
     },
     "execution_count": 29,
     "metadata": {},
     "output_type": "execute_result"
    }
   ],
   "source": [
    "def multiply(a,b):\n",
    "    c = a*b\n",
    "    return c\n",
    "\n",
    "multiply(3,5)"
   ]
  },
  {
   "cell_type": "markdown",
   "id": "1f0e888d",
   "metadata": {},
   "source": [
    "## Create a function named power that takes two parameters: base and exponent, and returns base raised to the power of exponent.\n",
    "\n",
    "- Input: power(2, 3)\n",
    "- Output: 8"
   ]
  },
  {
   "cell_type": "code",
   "execution_count": 30,
   "id": "d69b6e7f",
   "metadata": {},
   "outputs": [
    {
     "data": {
      "text/plain": [
       "9"
      ]
     },
     "execution_count": 30,
     "metadata": {},
     "output_type": "execute_result"
    }
   ],
   "source": [
    "def power(a,b):\n",
    "    c = a**b\n",
    "    return c\n",
    "\n",
    "power(3,2)"
   ]
  },
  {
   "cell_type": "markdown",
   "id": "2a0256a1",
   "metadata": {},
   "source": [
    "## Define a function named is_even that takes an integer parameter num and returns True if the number is even, otherwise False.\n",
    "\n",
    "- Input: is_even(7)\n",
    "- Output: False"
   ]
  },
  {
   "cell_type": "code",
   "execution_count": 31,
   "id": "e532d0d7",
   "metadata": {},
   "outputs": [
    {
     "data": {
      "text/plain": [
       "True"
      ]
     },
     "execution_count": 31,
     "metadata": {},
     "output_type": "execute_result"
    }
   ],
   "source": [
    "# Write your code here\n",
    "def is_even(num):\n",
    "    if num % 2 == 0:\n",
    "        return True\n",
    "    else:\n",
    "        return False\n",
    "    \n",
    "is_even(8)"
   ]
  },
  {
   "cell_type": "markdown",
   "id": "c5ee8e64",
   "metadata": {},
   "source": [
    "## Write a function called factorial that calculates the factorial of a given number n.\n",
    "\n",
    "- Input: factorial(5)\n",
    "- Output: 120"
   ]
  },
  {
   "cell_type": "code",
   "execution_count": 32,
   "id": "90bcbeab",
   "metadata": {},
   "outputs": [
    {
     "data": {
      "text/plain": [
       "6"
      ]
     },
     "execution_count": 32,
     "metadata": {},
     "output_type": "execute_result"
    }
   ],
   "source": [
    "# Write your code here\n",
    "# 5 = 5*4*3*2*1\n",
    "def factorial(n):\n",
    "    for i in range(1,n):\n",
    "        n *= i\n",
    "    return n\n",
    "\n",
    "factorial(3)"
   ]
  },
  {
   "cell_type": "code",
   "execution_count": 33,
   "id": "363d20b8",
   "metadata": {},
   "outputs": [
    {
     "ename": "SyntaxError",
     "evalue": "invalid syntax (3662966033.py, line 2)",
     "output_type": "error",
     "traceback": [
      "\u001b[1;36m  Cell \u001b[1;32mIn[33], line 2\u001b[1;36m\u001b[0m\n\u001b[1;33m    [for i in range(n,)]\u001b[0m\n\u001b[1;37m     ^\u001b[0m\n\u001b[1;31mSyntaxError\u001b[0m\u001b[1;31m:\u001b[0m invalid syntax\n"
     ]
    }
   ],
   "source": [
    "# List Comprehension\n",
    "[for i in range(n,)]"
   ]
  },
  {
   "cell_type": "markdown",
   "id": "ccb2e052",
   "metadata": {},
   "source": [
    "## Create a function named is_palindrome that takes a string parameter text and returns True if the text is a palindrome, otherwise False.\n",
    "\n",
    "- Input: is_palindrome(\"radar\")\n",
    "- Output: True\n",
    "\n",
    "- Note: A palindrome is a word, phrase, number, or other sequence of characters that reads the same forward and backward.Example: \"radar\" is a palindrome because it reads the same forward and backward."
   ]
  },
  {
   "cell_type": "code",
   "execution_count": 18,
   "id": "3bec9d72",
   "metadata": {},
   "outputs": [
    {
     "data": {
      "text/plain": [
       "True"
      ]
     },
     "execution_count": 18,
     "metadata": {},
     "output_type": "execute_result"
    }
   ],
   "source": [
    "def is_palindeome(word):\n",
    "    revrse_word=word[::-1]\n",
    "    if word.lower()==revrse_word.lower():\n",
    "        return True\n",
    "    else:\n",
    "        return False\n",
    "\n",
    "is_palindeome(\"radar\")"
   ]
  },
  {
   "cell_type": "markdown",
   "id": "b48d35b2",
   "metadata": {},
   "source": [
    "## Define a function named unique_elements that takes a list parameter lst and returns a list contaiinng only the unique elements of the input list.\n",
    "`\n",
    "- Input: unique_elements([1, 2, 3, 3, 4, 5, 5])\n",
    "- Output: [1, 2, 3, 4, 5]"
   ]
  },
  {
   "cell_type": "code",
   "execution_count": 20,
   "id": "ef4bdf41",
   "metadata": {},
   "outputs": [
    {
     "data": {
      "text/plain": [
       "[1, 2, 3, 4, 5, 6, 7]"
      ]
     },
     "execution_count": 20,
     "metadata": {},
     "output_type": "execute_result"
    }
   ],
   "source": [
    "def unique_elements(ist):\n",
    "    unique_elements = []\n",
    "    for i in ist:\n",
    "        if i not in unique_elements:\n",
    "            unique_elements.append(i)\n",
    "    return unique_elements\n",
    "unique_elements([1, 2, 3, 3, 4, 5, 5,6,6,7])"
   ]
  },
  {
   "cell_type": "markdown",
   "id": "79be0766",
   "metadata": {},
   "source": [
    "## Write a function called average that calculates the average of a list of numbers passed as a parameter.\n",
    "\n",
    "- Input: average([1, 2, 3, 4, 5])\n",
    "- Output: 3.0"
   ]
  },
  {
   "cell_type": "code",
   "execution_count": 26,
   "id": "a6a1e394",
   "metadata": {},
   "outputs": [
    {
     "name": "stdout",
     "output_type": "stream",
     "text": [
      "[1, 2, 3, 4, 5]\n"
     ]
    },
    {
     "data": {
      "text/plain": [
       "3.0"
      ]
     },
     "execution_count": 26,
     "metadata": {},
     "output_type": "execute_result"
    }
   ],
   "source": [
    "def average(n):\n",
    "#     print(n)\n",
    "    return sum(n)/len(n)\n",
    "\n",
    "average([1,2,3,4,5])"
   ]
  },
  {
   "cell_type": "markdown",
   "id": "d231e8ad",
   "metadata": {},
   "source": [
    "## Create a function named is_prime that takes an integer parameter num and returns True if the number is prime, otherwise False.\n",
    "\n",
    "- Input: is_prime(7)\n",
    "- Output: True"
   ]
  },
  {
   "cell_type": "code",
   "execution_count": 47,
   "id": "3edf9891",
   "metadata": {},
   "outputs": [
    {
     "data": {
      "text/plain": [
       "False"
      ]
     },
     "execution_count": 47,
     "metadata": {},
     "output_type": "execute_result"
    }
   ],
   "source": [
    "# Write your code here\n",
    "def is_prime(n):\n",
    "    if n < 2:\n",
    "        return False\n",
    "    i = 2\n",
    "    while i*i <= n:\n",
    "        if n % i == 0:\n",
    "            return False\n",
    "        i += 1\n",
    "    return True\n",
    "        \n",
    "is_prime(6)\n"
   ]
  },
  {
   "cell_type": "markdown",
   "id": "5703b54e",
   "metadata": {},
   "source": [
    "## Define a function named reverse_list that takes a list parameter lst and returns a new list with the elements reversed.\n",
    "\n",
    "- Input: reverse_list([1, 2, 3, 4, 5])\n",
    "- Output: [5, 4, 3, 2, 1]"
   ]
  },
  {
   "cell_type": "code",
   "execution_count": 49,
   "id": "66e2da04",
   "metadata": {},
   "outputs": [
    {
     "data": {
      "text/plain": [
       "[3, 2, 1]"
      ]
     },
     "execution_count": 49,
     "metadata": {},
     "output_type": "execute_result"
    }
   ],
   "source": [
    "def reverse_list(lst):\n",
    "    return lst[::-1]\n",
    "\n",
    "reverse_list([1,2,3])"
   ]
  },
  {
   "cell_type": "markdown",
   "id": "6caecb2e",
   "metadata": {},
   "source": [
    "## Write a Python program to print the even numbers from a given list.\n",
    "\n",
    "- Sample List : [1, 2, 3, 4, 5, 6, 7, 8, 9]\n",
    "- Expected Result : [2, 4, 6, 8]"
   ]
  },
  {
   "cell_type": "code",
   "execution_count": 55,
   "id": "f01e1fb0",
   "metadata": {},
   "outputs": [
    {
     "data": {
      "text/plain": [
       "([2, 4, 6, 8], [1, 3, 5, 7, 9])"
      ]
     },
     "execution_count": 55,
     "metadata": {},
     "output_type": "execute_result"
    }
   ],
   "source": [
    "def even(lst):\n",
    "    even = []\n",
    "    odd = []\n",
    "    for i in lst:\n",
    "        if i % 2 == 0:\n",
    "            even.append(i)\n",
    "        else:\n",
    "            odd.append(i)\n",
    "    return even, odd\n",
    "\n",
    "even([1, 2, 3, 4, 5, 6, 7, 8, 9])\n",
    "    "
   ]
  },
  {
   "cell_type": "code",
   "execution_count": 54,
   "id": "a704c55a",
   "metadata": {},
   "outputs": [
    {
     "name": "stdout",
     "output_type": "stream",
     "text": [
      "\n",
      "    Even Numbers: [2, 4, 6, 8]\n",
      "    Odd Numbers: [1, 3, 5, 7, 9]\n",
      "    \n"
     ]
    }
   ],
   "source": [
    "def is_even_odd(lst):\n",
    "    even = [i for i in lst if i % 2 == 0]\n",
    "    odd = [i for i in lst if i % 2 != 0]\n",
    "    print(f'''\n",
    "    Even Numbers: {even}\n",
    "    Odd Numbers: {odd}\n",
    "    ''')\n",
    "\n",
    "is_even_odd([1, 2, 3, 4, 5, 6, 7, 8, 9])\n"
   ]
  },
  {
   "cell_type": "code",
   "execution_count": null,
   "id": "cc48018e",
   "metadata": {},
   "outputs": [],
   "source": []
  },
  {
   "cell_type": "markdown",
   "id": "98becd65",
   "metadata": {},
   "source": [
    "## Write a Python function that accepts a string and counts the number of upper and lower case letters.\n",
    "Sample String : 'The quick Brow Fox'\n",
    "    \n",
    "- Expected Output :\n",
    "- No. of Upper case characters : 3\n",
    "- No. of Lower case Characters : 12"
   ]
  },
  {
   "cell_type": "code",
   "execution_count": 57,
   "id": "dc0ce442",
   "metadata": {},
   "outputs": [
    {
     "name": "stdout",
     "output_type": "stream",
     "text": [
      "\n",
      "No. of Upper case characters : 3\n",
      "No. of Lower case Characters : 12\n",
      "    \n"
     ]
    }
   ],
   "source": [
    "# Write your code here\n",
    "# The quick Brow Fox\n",
    "def text(string):\n",
    "    upper = []\n",
    "    lower = []\n",
    "    for word in string:\n",
    "        if word.isupper():\n",
    "            upper.append(word)\n",
    "        elif word.islower():\n",
    "            lower.append(word)\n",
    "    print(f'''\n",
    "No. of Upper case characters : {len(upper)}\n",
    "No. of Lower case Characters : {len(lower)}\n",
    "    ''')\n",
    "    \n",
    "text('The quick Brow Fox')\n"
   ]
  },
  {
   "cell_type": "code",
   "execution_count": 58,
   "id": "56d0c5b0",
   "metadata": {},
   "outputs": [
    {
     "name": "stdout",
     "output_type": "stream",
     "text": [
      "\n",
      "No. of Upper case characters : 3\n",
      "No. of Lower case Characters : 12\n",
      "    \n"
     ]
    }
   ],
   "source": [
    "# Write your code here\n",
    "# The quick Brow Fox\n",
    "def text(string):\n",
    "    upper = 0\n",
    "    lower = 0\n",
    "    for word in string:\n",
    "        if word.isupper():\n",
    "            upper+=1\n",
    "        elif word.islower():\n",
    "            lower+=1\n",
    "    print(f'''\n",
    "No. of Upper case characters : {upper}\n",
    "No. of Lower case Characters : {lower}\n",
    "    ''')\n",
    "    \n",
    "text('The quick Brow Fox')\n"
   ]
  },
  {
   "cell_type": "code",
   "execution_count": 59,
   "id": "bea1e9d1",
   "metadata": {},
   "outputs": [
    {
     "name": "stdout",
     "output_type": "stream",
     "text": [
      "\n",
      "No. of Upper case characters : 3\n",
      "No. of Lower case Characters : 12\n",
      "    \n"
     ]
    }
   ],
   "source": [
    "def text(string):\n",
    "    upper = len([word for word in string if word.isupper()])\n",
    "    lower = len([word for word in string if word.islower()])\n",
    "    print(f'''\n",
    "No. of Upper case characters : {upper}\n",
    "No. of Lower case Characters : {lower}\n",
    "    ''')\n",
    "    \n",
    "    \n",
    "text('The quick Brow Fox')\n"
   ]
  },
  {
   "cell_type": "markdown",
   "id": "d6ce8996",
   "metadata": {},
   "source": [
    "## Write a Python function to multiply all the numbers in a list.\n",
    "\n",
    "- Sample List : (8, 2, 3, -1, 7)\n",
    "- Expected Output : -336"
   ]
  },
  {
   "cell_type": "code",
   "execution_count": 62,
   "id": "ef18c810",
   "metadata": {},
   "outputs": [
    {
     "data": {
      "text/plain": [
       "-336"
      ]
     },
     "execution_count": 62,
     "metadata": {},
     "output_type": "execute_result"
    }
   ],
   "source": [
    "# Write your code here\n",
    "def multiply(list1):\n",
    "    x=1\n",
    "    for i in list1:\n",
    "        x*=i\n",
    "    return x\n",
    "multiply([8, 2, 3, -1, 7])"
   ]
  },
  {
   "cell_type": "markdown",
   "id": "c1909bdd",
   "metadata": {},
   "source": [
    "## Write a Python program for a given string S which may contain lowercase and uppercase characters. The task is to remove all duplicate characters from the string and find the resultant string.\n",
    "\n",
    "- Input: Str = HappyNewYear\n",
    "- Output: HapyNewYr\n",
    "- Explanation: After removing duplicate characters such as p, e, a, we have string as “HapyNewYr”."
   ]
  },
  {
   "cell_type": "code",
   "execution_count": 66,
   "id": "44a63518",
   "metadata": {},
   "outputs": [
    {
     "data": {
      "text/plain": [
       "'HapyNewYr'"
      ]
     },
     "execution_count": 66,
     "metadata": {},
     "output_type": "execute_result"
    }
   ],
   "source": [
    "# Write your code _here\n",
    "def removingduplicate(strr):\n",
    "    result =\"\"\n",
    "    for i in strr:\n",
    "        if i not in result:\n",
    "            \n",
    "            result = result + i\n",
    "    return result\n",
    "removingduplicate(\"HappyNewYear\")\n",
    "    "
   ]
  },
  {
   "cell_type": "markdown",
   "id": "9d6cd084",
   "metadata": {},
   "source": [
    "## Define a function named square_dict that takes a list of integers as input and returns a dictionary where each key-value pair consists of an element from the input list as the key and its square as the value.\n",
    "\n",
    "- Input: [1, 2, 3, 4, 5]\n",
    "- Output: {1: 1, 2: 4, 3: 9, 4: 16, 5: 25}\n",
    "- Note: You can use dictionary comprehension for better practices "
   ]
  },
  {
   "cell_type": "code",
   "execution_count": 69,
   "id": "cbf2b6fa",
   "metadata": {},
   "outputs": [
    {
     "data": {
      "text/plain": [
       "{1: 1, 2: 4, 3: 9, 4: 16, 5: 25}"
      ]
     },
     "execution_count": 69,
     "metadata": {},
     "output_type": "execute_result"
    }
   ],
   "source": [
    "def square_dict(lst):\n",
    "    return {i:i*i for i in lst}\n",
    "\n",
    "square_dict([1,2,3,4,5])\n",
    "\n"
   ]
  },
  {
   "cell_type": "code",
   "execution_count": 70,
   "id": "0a02da52",
   "metadata": {},
   "outputs": [
    {
     "data": {
      "text/plain": [
       "{1: 1, 2: 4, 3: 9, 4: 16, 5: 25}"
      ]
     },
     "execution_count": 70,
     "metadata": {},
     "output_type": "execute_result"
    }
   ],
   "source": [
    "def square_dict(lst):\n",
    "    dic = {}\n",
    "    for i in lst:\n",
    "        dic[i] = i*i\n",
    "    return dic\n",
    "        \n",
    "#     return {i:i*i for i in lst}\n",
    "\n",
    "square_dict([1,2,3,4,5])\n",
    "\n"
   ]
  },
  {
   "cell_type": "markdown",
   "id": "a572346f",
   "metadata": {},
   "source": [
    "## Given a list in Python and provided the positions of the elements, write a fucntion to swap the two elements in the list.\n",
    "\n",
    "- Input : List = [1, 2, 3, 4, 5], pos1 = 2, pos2 = 5\n",
    "- Output : [1, 5, 3, 4, 2]"
   ]
  },
  {
   "cell_type": "code",
   "execution_count": 3,
   "id": "0f558ff5",
   "metadata": {},
   "outputs": [
    {
     "data": {
      "text/plain": [
       "[1, 5, 3, 4, 2]"
      ]
     },
     "execution_count": 3,
     "metadata": {},
     "output_type": "execute_result"
    }
   ],
   "source": [
    "# write you code here\n",
    "def swap(lst, pos1, pos2):\n",
    "    lst[pos1] , lst[pos2] = lst[pos2], lst[pos1]\n",
    "    return lst\n",
    "\n",
    "swap([1, 2, 3, 4, 5], 1,-1)\n",
    "# print('hello')"
   ]
  },
  {
   "cell_type": "markdown",
   "id": "e924dbe4",
   "metadata": {},
   "source": [
    "## Write a python function to remove a letter \"e\" from the string \"elephant\".\n",
    "\n",
    "- output = 'lphant' (all 'e' characters are removed)"
   ]
  },
  {
   "cell_type": "code",
   "execution_count": 5,
   "id": "01807c75",
   "metadata": {},
   "outputs": [
    {
     "data": {
      "text/plain": [
       "'lphant'"
      ]
     },
     "execution_count": 5,
     "metadata": {},
     "output_type": "execute_result"
    }
   ],
   "source": [
    "# Write your code here\n",
    "def remove_e(a):\n",
    "    result = \"\"\n",
    "    for i in a:\n",
    "        if i !=\"e\":\n",
    "            result = result + i\n",
    "    return result\n",
    "\n",
    "remove_e(\"elephant\")\n"
   ]
  },
  {
   "cell_type": "code",
   "execution_count": 13,
   "id": "aa272fd6",
   "metadata": {},
   "outputs": [
    {
     "data": {
      "text/plain": [
       "'lphant'"
      ]
     },
     "execution_count": 13,
     "metadata": {},
     "output_type": "execute_result"
    }
   ],
   "source": [
    "def remove(string):\n",
    "    return ''.join([i for i in string if i!='e'])\n",
    "\n",
    "remove('elephant')"
   ]
  },
  {
   "cell_type": "markdown",
   "id": "11cb9b97",
   "metadata": {},
   "source": [
    "## Write a python function to remove duplicate character from a string.\n",
    "\n",
    "- Input: 'levels'\n",
    "- output: 'vs' (l and e are removed since they are repeating characters in the string)"
   ]
  },
  {
   "cell_type": "code",
   "execution_count": 15,
   "id": "7428d07e",
   "metadata": {},
   "outputs": [
    {
     "data": {
      "text/plain": [
       "'vs'"
      ]
     },
     "execution_count": 15,
     "metadata": {},
     "output_type": "execute_result"
    }
   ],
   "source": [
    "# Write your code here\n",
    "def rem(word):\n",
    "    word2=''\n",
    "    for i in word:\n",
    "        if word.count(i)==1:\n",
    "            word2+=i\n",
    "    return word2\n",
    "rem('levels')"
   ]
  },
  {
   "cell_type": "code",
   "execution_count": null,
   "id": "f0f3ae5d",
   "metadata": {},
   "outputs": [],
   "source": [
    "def rem(string):\n",
    "    dic = {}\n",
    "    for i in string:\n",
    "        if i not in dic.keys():\n",
    "            dic[i] = "
   ]
  },
  {
   "cell_type": "code",
   "execution_count": null,
   "id": "322b5e69",
   "metadata": {},
   "outputs": [],
   "source": [
    "{\n",
    "    'l':2,\n",
    "    'e':2,\n",
    "    'v':1,\n",
    "    's':1\n",
    "}"
   ]
  },
  {
   "cell_type": "code",
   "execution_count": 20,
   "id": "dd46295d",
   "metadata": {},
   "outputs": [
    {
     "data": {
      "text/plain": [
       "'vs'"
      ]
     },
     "execution_count": 20,
     "metadata": {},
     "output_type": "execute_result"
    }
   ],
   "source": [
    "def rem(string):\n",
    "    return ''.join([i for i in string if string.count(i) == 1])\n",
    "\n",
    "rem('levels')"
   ]
  },
  {
   "cell_type": "code",
   "execution_count": 35,
   "id": "d1bd0de3",
   "metadata": {},
   "outputs": [
    {
     "data": {
      "text/plain": [
       "'lphant'"
      ]
     },
     "execution_count": 35,
     "metadata": {},
     "output_type": "execute_result"
    }
   ],
   "source": [
    "def rem(string):\n",
    "    dic={}\n",
    "    for i in string:\n",
    "        if i in dic:\n",
    "            dic[i]+=1\n",
    "        else:\n",
    "            dic[i]=1\n",
    "    output=''\n",
    "    for i in string:\n",
    "        if dic[i]==1:\n",
    "            output+=i\n",
    "    return output\n",
    "rem(\"elephant\")\n"
   ]
  },
  {
   "cell_type": "code",
   "execution_count": 38,
   "id": "e63edd48",
   "metadata": {},
   "outputs": [
    {
     "data": {
      "text/plain": [
       "'vs'"
      ]
     },
     "execution_count": 38,
     "metadata": {},
     "output_type": "execute_result"
    }
   ],
   "source": [
    "def rem(string):\n",
    "    dic={}\n",
    "    for i in string:\n",
    "        if i in dic:\n",
    "            dic[i]+=1\n",
    "        else:\n",
    "            dic[i]=1\n",
    "    output=''\n",
    "    for key, value in dic.items():\n",
    "        if value == 1:\n",
    "            output+=key\n",
    "    return output\n",
    "\n",
    "rem(\"levels\")\n"
   ]
  },
  {
   "cell_type": "markdown",
   "id": "f60edec7",
   "metadata": {},
   "source": [
    "## Write a python function to count the frequencies of each character in the given string and stored it in a dictionary format.\n",
    "\n",
    "- Input: 'listen'\n",
    "- Output : {'l':1, 'i':1, 's':1, 't':1, 'e':1, 'n':1}"
   ]
  },
  {
   "cell_type": "code",
   "execution_count": 40,
   "id": "ea90d887",
   "metadata": {},
   "outputs": [
    {
     "data": {
      "text/plain": [
       "{'l': 1, 'i': 1, 's': 1, 't': 1, 'e': 1, 'n': 1}"
      ]
     },
     "execution_count": 40,
     "metadata": {},
     "output_type": "execute_result"
    }
   ],
   "source": [
    "# Write your code here\n",
    "def counting(string):\n",
    "    dic = {}\n",
    "    for i in string:\n",
    "        if i in dic:\n",
    "            dic[i]+=1\n",
    "        else:\n",
    "            dic[i] = 1\n",
    "            \n",
    "    return dic\n",
    "\n",
    "counting('listen')"
   ]
  },
  {
   "cell_type": "markdown",
   "id": "eb915380",
   "metadata": {},
   "source": [
    "## Write a Python function named get_initials that takes a string as input and returns the initials of each word in the string, separated by dots.\n",
    "\n",
    "- Input: \"John Doe\"\n",
    "- Output: \"J.D\""
   ]
  },
  {
   "cell_type": "code",
   "execution_count": 47,
   "id": "a2aeca74",
   "metadata": {},
   "outputs": [
    {
     "data": {
      "text/plain": [
       "'A.R'"
      ]
     },
     "execution_count": 47,
     "metadata": {},
     "output_type": "execute_result"
    }
   ],
   "source": [
    "def get_initials(string):\n",
    "    splitting=string.split()\n",
    "    initial=\"\"\n",
    "    for i in splitting:\n",
    "        initial+=i[0]\n",
    "    dots_seperate=\".\".join(initial)    \n",
    "    return dots_seperate\n",
    "\n",
    "\n",
    "get_initials(\"Abdul Rafay\")"
   ]
  },
  {
   "cell_type": "code",
   "execution_count": 57,
   "id": "23c7b364",
   "metadata": {},
   "outputs": [
    {
     "data": {
      "text/plain": [
       "'K.S'"
      ]
     },
     "execution_count": 57,
     "metadata": {},
     "output_type": "execute_result"
    }
   ],
   "source": [
    "def get_initials(string):\n",
    "    a = string.split()\n",
    "    \n",
    "    c = a[0]\n",
    "    d = a[1]\n",
    "    return f\"{c[0]}.{d[0]}\"\n",
    "get_initials(\"AMIN SADRUDDIN\")\n",
    "get_initials(\"KARIM SADRDDRUN\")"
   ]
  },
  {
   "cell_type": "code",
   "execution_count": 65,
   "id": "645d056f",
   "metadata": {},
   "outputs": [
    {
     "data": {
      "text/plain": [
       "'a.s.r.'"
      ]
     },
     "execution_count": 65,
     "metadata": {},
     "output_type": "execute_result"
    }
   ],
   "source": [
    "def get_initials(string):\n",
    "    result = \"\"\n",
    "    for i in string.split():\n",
    "        result =result + i[0] + \".\"\n",
    "    return result[:-1]\n",
    "\n",
    "\n",
    "get_initials(\"amin sadruddin roghi\")\n"
   ]
  },
  {
   "cell_type": "code",
   "execution_count": 71,
   "id": "7121c061",
   "metadata": {},
   "outputs": [
    {
     "data": {
      "text/plain": [
       "'W.S.J'"
      ]
     },
     "execution_count": 71,
     "metadata": {},
     "output_type": "execute_result"
    }
   ],
   "source": [
    "def get_initials(string):\n",
    "    return '.'.join([word[0].upper() for word in string.split()])\n",
    "\n",
    "get_initials('waseem sattar jawad')"
   ]
  },
  {
   "cell_type": "code",
   "execution_count": null,
   "id": "71ee1359",
   "metadata": {},
   "outputs": [],
   "source": []
  }
 ],
 "metadata": {
  "kernelspec": {
   "display_name": "Python 3 (ipykernel)",
   "language": "python",
   "name": "python3"
  },
  "language_info": {
   "codemirror_mode": {
    "name": "ipython",
    "version": 3
   },
   "file_extension": ".py",
   "mimetype": "text/x-python",
   "name": "python",
   "nbconvert_exporter": "python",
   "pygments_lexer": "ipython3",
   "version": "3.11.5"
  }
 },
 "nbformat": 4,
 "nbformat_minor": 5
}
