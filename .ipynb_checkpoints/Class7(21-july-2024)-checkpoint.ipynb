{
 "cells": [
  {
   "cell_type": "markdown",
   "id": "906ec7a6",
   "metadata": {},
   "source": [
    "# Remaining string methods"
   ]
  },
  {
   "cell_type": "code",
   "execution_count": 1,
   "id": "b069205d",
   "metadata": {},
   "outputs": [],
   "source": [
    "cities = ['karachi', 'chakwal', 'quetta', 'lahore', 'multan']"
   ]
  },
  {
   "cell_type": "code",
   "execution_count": 7,
   "id": "b4d4c9f7",
   "metadata": {},
   "outputs": [],
   "source": [
    "cities_string = ' '.join(cities)"
   ]
  },
  {
   "cell_type": "code",
   "execution_count": 14,
   "id": "422bfd0a",
   "metadata": {},
   "outputs": [
    {
     "data": {
      "text/plain": [
       "['k', 'r', 'chi ch', 'kw', 'l quett', ' l', 'hore mult', 'n']"
      ]
     },
     "execution_count": 14,
     "metadata": {},
     "output_type": "execute_result"
    }
   ],
   "source": [
    "cities_string.split('a')"
   ]
  },
  {
   "cell_type": "code",
   "execution_count": 15,
   "id": "742ebea0",
   "metadata": {},
   "outputs": [],
   "source": [
    "name = 'lahore'"
   ]
  },
  {
   "cell_type": "code",
   "execution_count": 17,
   "id": "299f0b33",
   "metadata": {},
   "outputs": [
    {
     "data": {
      "text/plain": [
       "['l', 'hore']"
      ]
     },
     "execution_count": 17,
     "metadata": {},
     "output_type": "execute_result"
    }
   ],
   "source": [
    "name.split('a')"
   ]
  },
  {
   "cell_type": "code",
   "execution_count": 18,
   "id": "453475c7",
   "metadata": {},
   "outputs": [
    {
     "data": {
      "text/plain": [
       "['lahore']"
      ]
     },
     "execution_count": 18,
     "metadata": {},
     "output_type": "execute_result"
    }
   ],
   "source": [
    "name.split(' ')"
   ]
  },
  {
   "cell_type": "markdown",
   "id": "233b84a9",
   "metadata": {},
   "source": [
    "# Dictionary"
   ]
  },
  {
   "cell_type": "code",
   "execution_count": 19,
   "id": "fbb5ca4c",
   "metadata": {},
   "outputs": [],
   "source": [
    "# dict        key:value\n",
    "details = {'Name':'Nawaz sharif', 'Hobby':'Corruption', 'Nationality':'London'}"
   ]
  },
  {
   "cell_type": "code",
   "execution_count": 21,
   "id": "e9c77b62",
   "metadata": {},
   "outputs": [
    {
     "data": {
      "text/plain": [
       "dict"
      ]
     },
     "execution_count": 21,
     "metadata": {},
     "output_type": "execute_result"
    }
   ],
   "source": [
    "type(details)"
   ]
  },
  {
   "cell_type": "code",
   "execution_count": 22,
   "id": "cd0a397c",
   "metadata": {},
   "outputs": [
    {
     "data": {
      "text/plain": [
       "3"
      ]
     },
     "execution_count": 22,
     "metadata": {},
     "output_type": "execute_result"
    }
   ],
   "source": [
    "len(details)"
   ]
  },
  {
   "cell_type": "code",
   "execution_count": 24,
   "id": "6c4dcb51",
   "metadata": {},
   "outputs": [
    {
     "data": {
      "text/plain": [
       "'Nawaz sharif'"
      ]
     },
     "execution_count": 24,
     "metadata": {},
     "output_type": "execute_result"
    }
   ],
   "source": [
    "details['Name']"
   ]
  },
  {
   "cell_type": "code",
   "execution_count": 27,
   "id": "d34c22d4",
   "metadata": {},
   "outputs": [
    {
     "data": {
      "text/plain": [
       "'Corruption'"
      ]
     },
     "execution_count": 27,
     "metadata": {},
     "output_type": "execute_result"
    }
   ],
   "source": [
    "details['Hobby']"
   ]
  },
  {
   "cell_type": "code",
   "execution_count": 28,
   "id": "3437e031",
   "metadata": {},
   "outputs": [
    {
     "ename": "KeyError",
     "evalue": "'London'",
     "output_type": "error",
     "traceback": [
      "\u001b[1;31m---------------------------------------------------------------------------\u001b[0m",
      "\u001b[1;31mKeyError\u001b[0m                                  Traceback (most recent call last)",
      "Cell \u001b[1;32mIn[28], line 1\u001b[0m\n\u001b[1;32m----> 1\u001b[0m details[\u001b[38;5;124m'\u001b[39m\u001b[38;5;124mLondon\u001b[39m\u001b[38;5;124m'\u001b[39m]\n",
      "\u001b[1;31mKeyError\u001b[0m: 'London'"
     ]
    }
   ],
   "source": [
    "details['London']"
   ]
  },
  {
   "cell_type": "markdown",
   "id": "459fb6f7",
   "metadata": {},
   "source": [
    "## Dictionary Methods"
   ]
  },
  {
   "cell_type": "code",
   "execution_count": null,
   "id": "728eafb2",
   "metadata": {},
   "outputs": [],
   "source": []
  }
 ],
 "metadata": {
  "kernelspec": {
   "display_name": "Python 3 (ipykernel)",
   "language": "python",
   "name": "python3"
  },
  "language_info": {
   "codemirror_mode": {
    "name": "ipython",
    "version": 3
   },
   "file_extension": ".py",
   "mimetype": "text/x-python",
   "name": "python",
   "nbconvert_exporter": "python",
   "pygments_lexer": "ipython3",
   "version": "3.11.5"
  }
 },
 "nbformat": 4,
 "nbformat_minor": 5
}
