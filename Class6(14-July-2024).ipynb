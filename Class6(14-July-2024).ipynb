{
 "cells": [
  {
   "cell_type": "code",
   "execution_count": 1,
   "id": "088023b4",
   "metadata": {},
   "outputs": [],
   "source": [
    "name = 'ali khan '"
   ]
  },
  {
   "cell_type": "code",
   "execution_count": 2,
   "id": "8c1b29b4",
   "metadata": {},
   "outputs": [],
   "source": [
    "num = 1"
   ]
  },
  {
   "cell_type": "code",
   "execution_count": 3,
   "id": "99e4c3e8",
   "metadata": {},
   "outputs": [],
   "source": [
    "num = 1.2"
   ]
  },
  {
   "cell_type": "code",
   "execution_count": 4,
   "id": "429a2578",
   "metadata": {},
   "outputs": [],
   "source": [
    "boolean = False"
   ]
  },
  {
   "cell_type": "markdown",
   "id": "02b5d334",
   "metadata": {},
   "source": [
    "# List"
   ]
  },
  {
   "cell_type": "code",
   "execution_count": 7,
   "id": "a182d9e3",
   "metadata": {},
   "outputs": [],
   "source": [
    "fruits = ['apple', 'mango', 'banana', 'orange', 'grapes']"
   ]
  },
  {
   "cell_type": "code",
   "execution_count": 8,
   "id": "b87e70ca",
   "metadata": {},
   "outputs": [],
   "source": [
    "nums = [1,2,3,4]"
   ]
  },
  {
   "cell_type": "code",
   "execution_count": 16,
   "id": "f2b8cf8f",
   "metadata": {},
   "outputs": [],
   "source": [
    "heights = [5.8, 5.9, 5.3, 6,6.1]"
   ]
  },
  {
   "cell_type": "code",
   "execution_count": 17,
   "id": "7b63d0cb",
   "metadata": {},
   "outputs": [
    {
     "name": "stdout",
     "output_type": "stream",
     "text": [
      "[5.8, 5.9, 5.3, 6, 6.1]\n"
     ]
    }
   ],
   "source": [
    "print(heights)"
   ]
  },
  {
   "cell_type": "code",
   "execution_count": 18,
   "id": "78c1b634",
   "metadata": {},
   "outputs": [],
   "source": [
    "mix = ['ali khan', 122, 12.2, True]"
   ]
  },
  {
   "cell_type": "markdown",
   "id": "76a1c7b9",
   "metadata": {},
   "source": [
    "## Indexing"
   ]
  },
  {
   "cell_type": "code",
   "execution_count": 23,
   "id": "fd69b8ad",
   "metadata": {},
   "outputs": [],
   "source": [
    "# Forward indexing\n",
    "#        0          1     2     3\n",
    "mix = ['ali khan', 122, 12.2, True]\n",
    "#       -4         -3     -2    -1\n",
    "# Reverse Indexing"
   ]
  },
  {
   "cell_type": "code",
   "execution_count": 28,
   "id": "ad566b4c",
   "metadata": {},
   "outputs": [
    {
     "data": {
      "text/plain": [
       "'ali khan'"
      ]
     },
     "execution_count": 28,
     "metadata": {},
     "output_type": "execute_result"
    }
   ],
   "source": [
    "mix[0]"
   ]
  },
  {
   "cell_type": "markdown",
   "id": "371c63d8",
   "metadata": {},
   "source": [
    "## Slicing"
   ]
  },
  {
   "cell_type": "code",
   "execution_count": 35,
   "id": "760b9c8a",
   "metadata": {},
   "outputs": [
    {
     "data": {
      "text/plain": [
       "['banana', 'orange']"
      ]
     },
     "execution_count": 35,
     "metadata": {},
     "output_type": "execute_result"
    }
   ],
   "source": [
    "fruits[2:4]"
   ]
  },
  {
   "cell_type": "code",
   "execution_count": 36,
   "id": "5ad4f56c",
   "metadata": {},
   "outputs": [
    {
     "data": {
      "text/plain": [
       "['apple', 'mango', 'banana', 'orange', 'grapes']"
      ]
     },
     "execution_count": 36,
     "metadata": {},
     "output_type": "execute_result"
    }
   ],
   "source": [
    "fruits"
   ]
  },
  {
   "cell_type": "code",
   "execution_count": 37,
   "id": "1d2e3bca",
   "metadata": {},
   "outputs": [
    {
     "data": {
      "text/plain": [
       "['banana', 'orange', 'grapes']"
      ]
     },
     "execution_count": 37,
     "metadata": {},
     "output_type": "execute_result"
    }
   ],
   "source": [
    "fruits[2:5]"
   ]
  },
  {
   "cell_type": "code",
   "execution_count": 39,
   "id": "e1a83a5a",
   "metadata": {},
   "outputs": [
    {
     "data": {
      "text/plain": [
       "list"
      ]
     },
     "execution_count": 39,
     "metadata": {},
     "output_type": "execute_result"
    }
   ],
   "source": [
    "type(fruits[2:5])"
   ]
  },
  {
   "cell_type": "code",
   "execution_count": 44,
   "id": "412c3212",
   "metadata": {},
   "outputs": [
    {
     "data": {
      "text/plain": [
       "['apple', 'mango', 'banana']"
      ]
     },
     "execution_count": 44,
     "metadata": {},
     "output_type": "execute_result"
    }
   ],
   "source": [
    "#      -5      -4         -3         -2     -1\n",
    "# ['apple', 'mango', 'banana', 'orange', 'grapes']\n",
    "\n",
    "fruits[-5:-2]\n"
   ]
  },
  {
   "cell_type": "code",
   "execution_count": 45,
   "id": "966145a0",
   "metadata": {},
   "outputs": [
    {
     "data": {
      "text/plain": [
       "['grapes', 'orange', 'banana', 'mango', 'apple']"
      ]
     },
     "execution_count": 45,
     "metadata": {},
     "output_type": "execute_result"
    }
   ],
   "source": [
    "fruits[::-1]"
   ]
  },
  {
   "cell_type": "code",
   "execution_count": 46,
   "id": "8e7428f5",
   "metadata": {},
   "outputs": [
    {
     "data": {
      "text/plain": [
       "'natsikap'"
      ]
     },
     "execution_count": 46,
     "metadata": {},
     "output_type": "execute_result"
    }
   ],
   "source": [
    "name[::-1]"
   ]
  },
  {
   "cell_type": "code",
   "execution_count": 47,
   "id": "59d7a883",
   "metadata": {},
   "outputs": [
    {
     "data": {
      "text/plain": [
       "'pakistan'"
      ]
     },
     "execution_count": 47,
     "metadata": {},
     "output_type": "execute_result"
    }
   ],
   "source": [
    "name"
   ]
  },
  {
   "cell_type": "code",
   "execution_count": 48,
   "id": "bbeedbde",
   "metadata": {},
   "outputs": [
    {
     "data": {
      "text/plain": [
       "['apple', 'mango', 'banana', 'orange', 'grapes']"
      ]
     },
     "execution_count": 48,
     "metadata": {},
     "output_type": "execute_result"
    }
   ],
   "source": [
    "fruits"
   ]
  },
  {
   "cell_type": "code",
   "execution_count": 53,
   "id": "9f3c6bc0",
   "metadata": {},
   "outputs": [
    {
     "data": {
      "text/plain": [
       "['apple', 'orange']"
      ]
     },
     "execution_count": 53,
     "metadata": {},
     "output_type": "execute_result"
    }
   ],
   "source": [
    "fruits[::3]"
   ]
  },
  {
   "cell_type": "code",
   "execution_count": 54,
   "id": "34dfade7",
   "metadata": {},
   "outputs": [
    {
     "data": {
      "text/plain": [
       "[1, 2, 3, 4]"
      ]
     },
     "execution_count": 54,
     "metadata": {},
     "output_type": "execute_result"
    }
   ],
   "source": [
    "nums"
   ]
  },
  {
   "cell_type": "code",
   "execution_count": 55,
   "id": "25903a80",
   "metadata": {},
   "outputs": [
    {
     "data": {
      "text/plain": [
       "10"
      ]
     },
     "execution_count": 55,
     "metadata": {},
     "output_type": "execute_result"
    }
   ],
   "source": [
    "sum(nums)"
   ]
  },
  {
   "cell_type": "markdown",
   "id": "aac92e1f",
   "metadata": {},
   "source": [
    "## List Methods"
   ]
  },
  {
   "cell_type": "code",
   "execution_count": 63,
   "id": "fdb1d19d",
   "metadata": {},
   "outputs": [
    {
     "data": {
      "text/plain": [
       "0"
      ]
     },
     "execution_count": 63,
     "metadata": {},
     "output_type": "execute_result"
    }
   ],
   "source": [
    "fruits.count('a')"
   ]
  },
  {
   "cell_type": "code",
   "execution_count": 67,
   "id": "4e4ccb02",
   "metadata": {},
   "outputs": [
    {
     "data": {
      "text/plain": [
       "4"
      ]
     },
     "execution_count": 67,
     "metadata": {},
     "output_type": "execute_result"
    }
   ],
   "source": [
    "fruits.index('grapes')"
   ]
  },
  {
   "cell_type": "code",
   "execution_count": 69,
   "id": "81c7e100",
   "metadata": {},
   "outputs": [
    {
     "data": {
      "text/plain": [
       "1"
      ]
     },
     "execution_count": 69,
     "metadata": {},
     "output_type": "execute_result"
    }
   ],
   "source": [
    "fruits.index('mango')"
   ]
  },
  {
   "cell_type": "code",
   "execution_count": 74,
   "id": "5350182e",
   "metadata": {},
   "outputs": [],
   "source": [
    "fruits.reverse()"
   ]
  },
  {
   "cell_type": "code",
   "execution_count": 75,
   "id": "75d124d3",
   "metadata": {},
   "outputs": [
    {
     "data": {
      "text/plain": [
       "['grapes', 'orange', 'banana', 'mango', 'apple']"
      ]
     },
     "execution_count": 75,
     "metadata": {},
     "output_type": "execute_result"
    }
   ],
   "source": [
    "fruits"
   ]
  },
  {
   "cell_type": "code",
   "execution_count": 81,
   "id": "7dbbc778",
   "metadata": {},
   "outputs": [
    {
     "data": {
      "text/plain": [
       "['apple', 'mango', 'banana', 'orange', 'grapes']"
      ]
     },
     "execution_count": 81,
     "metadata": {},
     "output_type": "execute_result"
    }
   ],
   "source": [
    "fruits[::-1]\n",
    "# Slice returns copy of that list"
   ]
  },
  {
   "cell_type": "code",
   "execution_count": 82,
   "id": "5354759d",
   "metadata": {},
   "outputs": [],
   "source": [
    "fruits.reverse()"
   ]
  },
  {
   "cell_type": "code",
   "execution_count": 83,
   "id": "50115a0b",
   "metadata": {},
   "outputs": [],
   "source": [
    "fruits.sort()"
   ]
  },
  {
   "cell_type": "code",
   "execution_count": 85,
   "id": "19353a80",
   "metadata": {},
   "outputs": [],
   "source": [
    "fruits.reverse()"
   ]
  },
  {
   "cell_type": "code",
   "execution_count": 86,
   "id": "b337200c",
   "metadata": {},
   "outputs": [
    {
     "data": {
      "text/plain": [
       "['orange', 'mango', 'grapes', 'banana', 'apple']"
      ]
     },
     "execution_count": 86,
     "metadata": {},
     "output_type": "execute_result"
    }
   ],
   "source": [
    "fruits"
   ]
  },
  {
   "cell_type": "code",
   "execution_count": 87,
   "id": "04e6b5ad",
   "metadata": {},
   "outputs": [],
   "source": [
    "cities = ['karachi', 'lahore', 'sukkur', 'lahore']"
   ]
  },
  {
   "cell_type": "code",
   "execution_count": 88,
   "id": "be64c6a5",
   "metadata": {},
   "outputs": [],
   "source": [
    "cities.remove('lahore')"
   ]
  },
  {
   "cell_type": "code",
   "execution_count": 90,
   "id": "7d9a5a0c",
   "metadata": {},
   "outputs": [],
   "source": [
    "cities.remove('lahore')"
   ]
  },
  {
   "cell_type": "code",
   "execution_count": 92,
   "id": "ba0dfdb6",
   "metadata": {},
   "outputs": [],
   "source": [
    "cities.append('lahore')"
   ]
  },
  {
   "cell_type": "code",
   "execution_count": 94,
   "id": "66aa9fa8",
   "metadata": {},
   "outputs": [],
   "source": [
    "cities.append('pindi')"
   ]
  },
  {
   "cell_type": "code",
   "execution_count": 95,
   "id": "41ebb2a0",
   "metadata": {},
   "outputs": [
    {
     "data": {
      "text/plain": [
       "['karachi', 'sukkur', 'lahore', 'pindi']"
      ]
     },
     "execution_count": 95,
     "metadata": {},
     "output_type": "execute_result"
    }
   ],
   "source": [
    "cities"
   ]
  },
  {
   "cell_type": "code",
   "execution_count": 97,
   "id": "f5a3eef4",
   "metadata": {},
   "outputs": [],
   "source": [
    "cities.append('multan')"
   ]
  },
  {
   "cell_type": "code",
   "execution_count": 98,
   "id": "014dfa05",
   "metadata": {},
   "outputs": [
    {
     "data": {
      "text/plain": [
       "['karachi', 'sukkur', 'lahore', 'pindi', 'multan']"
      ]
     },
     "execution_count": 98,
     "metadata": {},
     "output_type": "execute_result"
    }
   ],
   "source": [
    "cities"
   ]
  },
  {
   "cell_type": "code",
   "execution_count": 99,
   "id": "039d12b5",
   "metadata": {},
   "outputs": [],
   "source": [
    "cities.append(['sanghar', 'chakwal'])"
   ]
  },
  {
   "cell_type": "code",
   "execution_count": 100,
   "id": "8c823ec6",
   "metadata": {},
   "outputs": [
    {
     "data": {
      "text/plain": [
       "['karachi', 'sukkur', 'lahore', 'pindi', 'multan', ['sanghar', 'chakwal']]"
      ]
     },
     "execution_count": 100,
     "metadata": {},
     "output_type": "execute_result"
    }
   ],
   "source": [
    "cities"
   ]
  },
  {
   "cell_type": "code",
   "execution_count": 104,
   "id": "d954f21d",
   "metadata": {},
   "outputs": [],
   "source": [
    "cities.remove(cities[-1])"
   ]
  },
  {
   "cell_type": "code",
   "execution_count": 106,
   "id": "96c3f15e",
   "metadata": {},
   "outputs": [
    {
     "data": {
      "text/plain": [
       "['karachi', 'sukkur', 'lahore', 'pindi', 'multan']"
      ]
     },
     "execution_count": 106,
     "metadata": {},
     "output_type": "execute_result"
    }
   ],
   "source": [
    "cities"
   ]
  },
  {
   "cell_type": "code",
   "execution_count": 107,
   "id": "90ebaa9d",
   "metadata": {},
   "outputs": [],
   "source": [
    "cities.extend(['sanghar', 'chakwal'])"
   ]
  },
  {
   "cell_type": "code",
   "execution_count": 108,
   "id": "98d3a925",
   "metadata": {},
   "outputs": [
    {
     "data": {
      "text/plain": [
       "['karachi', 'sukkur', 'lahore', 'pindi', 'multan', 'sanghar', 'chakwal']"
      ]
     },
     "execution_count": 108,
     "metadata": {},
     "output_type": "execute_result"
    }
   ],
   "source": [
    "cities"
   ]
  },
  {
   "cell_type": "code",
   "execution_count": 111,
   "id": "e7ab54ed",
   "metadata": {},
   "outputs": [
    {
     "ename": "TypeError",
     "evalue": "insert expected 2 arguments, got 3",
     "output_type": "error",
     "traceback": [
      "\u001b[1;31m---------------------------------------------------------------------------\u001b[0m",
      "\u001b[1;31mTypeError\u001b[0m                                 Traceback (most recent call last)",
      "Cell \u001b[1;32mIn[111], line 1\u001b[0m\n\u001b[1;32m----> 1\u001b[0m cities\u001b[38;5;241m.\u001b[39minsert(\u001b[38;5;241m3\u001b[39m, \u001b[38;5;124m'\u001b[39m\u001b[38;5;124mskardu\u001b[39m\u001b[38;5;124m'\u001b[39m, \u001b[38;5;124m'\u001b[39m\u001b[38;5;124msawat\u001b[39m\u001b[38;5;124m'\u001b[39m)\n",
      "\u001b[1;31mTypeError\u001b[0m: insert expected 2 arguments, got 3"
     ]
    }
   ],
   "source": [
    "cities.insert(3, 'gilgit')"
   ]
  },
  {
   "cell_type": "code",
   "execution_count": 110,
   "id": "3243fead",
   "metadata": {},
   "outputs": [
    {
     "data": {
      "text/plain": [
       "['karachi',\n",
       " 'sukkur',\n",
       " 'lahore',\n",
       " 'gilgit',\n",
       " 'pindi',\n",
       " 'multan',\n",
       " 'sanghar',\n",
       " 'chakwal']"
      ]
     },
     "execution_count": 110,
     "metadata": {},
     "output_type": "execute_result"
    }
   ],
   "source": [
    "cities"
   ]
  },
  {
   "cell_type": "code",
   "execution_count": 112,
   "id": "5ab5895d",
   "metadata": {},
   "outputs": [],
   "source": [
    "# ['karachi', 'sukkur', 'lahore', 'pindi', 'multan', 'sanghar', 'chakwal']\n",
    "\n",
    "cities.insert(cities.index('lahore'), 'kpk')"
   ]
  },
  {
   "cell_type": "code",
   "execution_count": 114,
   "id": "6f5d3de0",
   "metadata": {},
   "outputs": [],
   "source": [
    "cities.remove('kpk')"
   ]
  },
  {
   "cell_type": "code",
   "execution_count": 116,
   "id": "ac4332a3",
   "metadata": {},
   "outputs": [],
   "source": [
    "cities.insert(cities.index('lahore')+1, 'kpk')"
   ]
  },
  {
   "cell_type": "code",
   "execution_count": 117,
   "id": "8966067c",
   "metadata": {},
   "outputs": [
    {
     "data": {
      "text/plain": [
       "['karachi',\n",
       " 'sukkur',\n",
       " 'lahore',\n",
       " 'kpk',\n",
       " 'gilgit',\n",
       " 'pindi',\n",
       " 'multan',\n",
       " 'sanghar',\n",
       " 'chakwal']"
      ]
     },
     "execution_count": 117,
     "metadata": {},
     "output_type": "execute_result"
    }
   ],
   "source": [
    "cities"
   ]
  },
  {
   "cell_type": "code",
   "execution_count": 119,
   "id": "f471d367",
   "metadata": {},
   "outputs": [],
   "source": [
    "del cities[0]"
   ]
  },
  {
   "cell_type": "code",
   "execution_count": 120,
   "id": "dbd60b5b",
   "metadata": {},
   "outputs": [
    {
     "data": {
      "text/plain": [
       "['sukkur', 'lahore', 'kpk', 'gilgit', 'pindi', 'multan', 'sanghar', 'chakwal']"
      ]
     },
     "execution_count": 120,
     "metadata": {},
     "output_type": "execute_result"
    }
   ],
   "source": [
    "cities"
   ]
  },
  {
   "cell_type": "code",
   "execution_count": 126,
   "id": "426e9e80",
   "metadata": {},
   "outputs": [
    {
     "data": {
      "text/plain": [
       "'chakwal'"
      ]
     },
     "execution_count": 126,
     "metadata": {},
     "output_type": "execute_result"
    }
   ],
   "source": [
    "cities.pop()"
   ]
  },
  {
   "cell_type": "code",
   "execution_count": 128,
   "id": "f84231cd",
   "metadata": {},
   "outputs": [],
   "source": [
    "poped_city = cities.pop()"
   ]
  },
  {
   "cell_type": "code",
   "execution_count": 129,
   "id": "eaab85c2",
   "metadata": {},
   "outputs": [
    {
     "data": {
      "text/plain": [
       "'sanghar'"
      ]
     },
     "execution_count": 129,
     "metadata": {},
     "output_type": "execute_result"
    }
   ],
   "source": [
    "poped_city"
   ]
  },
  {
   "cell_type": "code",
   "execution_count": 130,
   "id": "72540f48",
   "metadata": {},
   "outputs": [
    {
     "data": {
      "text/plain": [
       "['lahore', 'kpk', 'gilgit', 'pindi', 'multan']"
      ]
     },
     "execution_count": 130,
     "metadata": {},
     "output_type": "execute_result"
    }
   ],
   "source": [
    "cities"
   ]
  },
  {
   "cell_type": "code",
   "execution_count": 132,
   "id": "e12364f4",
   "metadata": {},
   "outputs": [],
   "source": [
    "lahore = cities.pop(cities.index('lahore'))"
   ]
  },
  {
   "cell_type": "code",
   "execution_count": 133,
   "id": "321b7aad",
   "metadata": {},
   "outputs": [
    {
     "data": {
      "text/plain": [
       "'lahore'"
      ]
     },
     "execution_count": 133,
     "metadata": {},
     "output_type": "execute_result"
    }
   ],
   "source": [
    "lahore"
   ]
  },
  {
   "cell_type": "code",
   "execution_count": 135,
   "id": "363c5af9",
   "metadata": {},
   "outputs": [],
   "source": [
    "cities.append('kpk')"
   ]
  },
  {
   "cell_type": "code",
   "execution_count": 142,
   "id": "5c1721a8",
   "metadata": {},
   "outputs": [],
   "source": [
    "kpk_city = cities.pop(cities.index('kpk'))"
   ]
  },
  {
   "cell_type": "code",
   "execution_count": 143,
   "id": "553da1d1",
   "metadata": {},
   "outputs": [
    {
     "data": {
      "text/plain": [
       "'kpk'"
      ]
     },
     "execution_count": 143,
     "metadata": {},
     "output_type": "execute_result"
    }
   ],
   "source": [
    "kpk_city"
   ]
  },
  {
   "cell_type": "code",
   "execution_count": 144,
   "id": "1244b238",
   "metadata": {},
   "outputs": [
    {
     "data": {
      "text/plain": [
       "['gilgit', 'pindi', 'multan', 'kpk']"
      ]
     },
     "execution_count": 144,
     "metadata": {},
     "output_type": "execute_result"
    }
   ],
   "source": [
    "cities"
   ]
  },
  {
   "cell_type": "code",
   "execution_count": 145,
   "id": "a40cc40b",
   "metadata": {},
   "outputs": [],
   "source": [
    "cities.append(kpk_city)"
   ]
  },
  {
   "cell_type": "code",
   "execution_count": 146,
   "id": "c1a17c53",
   "metadata": {},
   "outputs": [
    {
     "data": {
      "text/plain": [
       "['gilgit', 'pindi', 'multan', 'kpk', 'kpk']"
      ]
     },
     "execution_count": 146,
     "metadata": {},
     "output_type": "execute_result"
    }
   ],
   "source": [
    "cities"
   ]
  },
  {
   "cell_type": "code",
   "execution_count": null,
   "id": "74079a2a",
   "metadata": {},
   "outputs": [],
   "source": [
    "cities.insert(cities.index('kpk'),'peshawar')"
   ]
  },
  {
   "cell_type": "code",
   "execution_count": 148,
   "id": "6d1d5b53",
   "metadata": {},
   "outputs": [
    {
     "name": "stdout",
     "output_type": "stream",
     "text": [
      "3\n",
      "4\n"
     ]
    }
   ],
   "source": [
    "index=cities.index(\"kpk\")\n",
    "print(index)\n",
    "index=cities.index(\"kpk\",index+1)\n",
    "print(index)"
   ]
  },
  {
   "cell_type": "code",
   "execution_count": 150,
   "id": "63f0d100",
   "metadata": {},
   "outputs": [],
   "source": [
    "cities.remove(\"kpk\")"
   ]
  },
  {
   "cell_type": "code",
   "execution_count": 152,
   "id": "8cfc050a",
   "metadata": {},
   "outputs": [],
   "source": [
    "cities[0]=\"kpk\""
   ]
  },
  {
   "cell_type": "code",
   "execution_count": 153,
   "id": "97356608",
   "metadata": {},
   "outputs": [
    {
     "data": {
      "text/plain": [
       "['kpk', 'pindi', 'multan', 'kpk']"
      ]
     },
     "execution_count": 153,
     "metadata": {},
     "output_type": "execute_result"
    }
   ],
   "source": [
    "cities"
   ]
  },
  {
   "cell_type": "code",
   "execution_count": 154,
   "id": "51234b0f",
   "metadata": {},
   "outputs": [
    {
     "name": "stdout",
     "output_type": "stream",
     "text": [
      "0\n",
      "3\n"
     ]
    }
   ],
   "source": [
    "index=cities.index(\"kpk\")\n",
    "print(index)\n",
    "index=cities.index(\"kpk\",index+1)\n",
    "print(index)"
   ]
  },
  {
   "cell_type": "code",
   "execution_count": 155,
   "id": "45307a9a",
   "metadata": {},
   "outputs": [],
   "source": [
    "cities.insert(2, 'kpk')"
   ]
  },
  {
   "cell_type": "code",
   "execution_count": 156,
   "id": "0dd8c65c",
   "metadata": {},
   "outputs": [
    {
     "data": {
      "text/plain": [
       "['kpk', 'pindi', 'kpk', 'multan', 'kpk']"
      ]
     },
     "execution_count": 156,
     "metadata": {},
     "output_type": "execute_result"
    }
   ],
   "source": [
    "cities"
   ]
  },
  {
   "cell_type": "code",
   "execution_count": 157,
   "id": "183c663d",
   "metadata": {},
   "outputs": [
    {
     "data": {
      "text/plain": [
       "0"
      ]
     },
     "execution_count": 157,
     "metadata": {},
     "output_type": "execute_result"
    }
   ],
   "source": [
    "cities.index('kpk')"
   ]
  },
  {
   "cell_type": "code",
   "execution_count": 158,
   "id": "ea02a400",
   "metadata": {},
   "outputs": [
    {
     "data": {
      "text/plain": [
       "2"
      ]
     },
     "execution_count": 158,
     "metadata": {},
     "output_type": "execute_result"
    }
   ],
   "source": [
    "cities.index('kpk', 0+1)"
   ]
  },
  {
   "cell_type": "code",
   "execution_count": 159,
   "id": "a0946915",
   "metadata": {},
   "outputs": [
    {
     "data": {
      "text/plain": [
       "4"
      ]
     },
     "execution_count": 159,
     "metadata": {},
     "output_type": "execute_result"
    }
   ],
   "source": [
    "cities.index('kpk', 2+1)"
   ]
  },
  {
   "cell_type": "code",
   "execution_count": 162,
   "id": "7ea2ff48",
   "metadata": {},
   "outputs": [
    {
     "ename": "ValueError",
     "evalue": "'pindi' is not in list",
     "output_type": "error",
     "traceback": [
      "\u001b[1;31m---------------------------------------------------------------------------\u001b[0m",
      "\u001b[1;31mValueError\u001b[0m                                Traceback (most recent call last)",
      "Cell \u001b[1;32mIn[162], line 1\u001b[0m\n\u001b[1;32m----> 1\u001b[0m cities\u001b[38;5;241m.\u001b[39mindex(\u001b[38;5;124m'\u001b[39m\u001b[38;5;124mpindi\u001b[39m\u001b[38;5;124m'\u001b[39m, \u001b[38;5;241m1\u001b[39m\u001b[38;5;241m+\u001b[39m\u001b[38;5;241m1\u001b[39m)\n",
      "\u001b[1;31mValueError\u001b[0m: 'pindi' is not in list"
     ]
    }
   ],
   "source": [
    "cities.index('pindi', 1+1)"
   ]
  },
  {
   "cell_type": "code",
   "execution_count": 165,
   "id": "ebec8a4a",
   "metadata": {},
   "outputs": [],
   "source": [
    "cities.sort(reverse=True)"
   ]
  },
  {
   "cell_type": "code",
   "execution_count": 167,
   "id": "9f315156",
   "metadata": {},
   "outputs": [],
   "source": [
    "cities.reverse()"
   ]
  },
  {
   "cell_type": "code",
   "execution_count": 168,
   "id": "b9bfc28f",
   "metadata": {},
   "outputs": [
    {
     "data": {
      "text/plain": [
       "['kpk', 'kpk', 'kpk', 'multan', 'pindi']"
      ]
     },
     "execution_count": 168,
     "metadata": {},
     "output_type": "execute_result"
    }
   ],
   "source": [
    "cities"
   ]
  },
  {
   "cell_type": "code",
   "execution_count": 169,
   "id": "975d5686",
   "metadata": {},
   "outputs": [],
   "source": [
    "fruits.clear()"
   ]
  },
  {
   "cell_type": "code",
   "execution_count": 170,
   "id": "74f5e1fd",
   "metadata": {},
   "outputs": [
    {
     "data": {
      "text/plain": [
       "[]"
      ]
     },
     "execution_count": 170,
     "metadata": {},
     "output_type": "execute_result"
    }
   ],
   "source": [
    "fruits"
   ]
  },
  {
   "cell_type": "code",
   "execution_count": 196,
   "id": "1e4044d2",
   "metadata": {},
   "outputs": [],
   "source": [
    "# Copy by value"
   ]
  },
  {
   "cell_type": "code",
   "execution_count": 172,
   "id": "73a46026",
   "metadata": {},
   "outputs": [],
   "source": [
    "copy_cities = cities.copy()"
   ]
  },
  {
   "cell_type": "code",
   "execution_count": 173,
   "id": "03290b5d",
   "metadata": {},
   "outputs": [
    {
     "data": {
      "text/plain": [
       "['kpk', 'kpk', 'kpk', 'multan', 'pindi']"
      ]
     },
     "execution_count": 173,
     "metadata": {},
     "output_type": "execute_result"
    }
   ],
   "source": [
    "copy_cities"
   ]
  },
  {
   "cell_type": "code",
   "execution_count": 174,
   "id": "adbd3a92",
   "metadata": {},
   "outputs": [
    {
     "data": {
      "text/plain": [
       "3219453796544"
      ]
     },
     "execution_count": 174,
     "metadata": {},
     "output_type": "execute_result"
    }
   ],
   "source": [
    "id(cities)"
   ]
  },
  {
   "cell_type": "code",
   "execution_count": 175,
   "id": "51f375ed",
   "metadata": {},
   "outputs": [
    {
     "data": {
      "text/plain": [
       "3219454516800"
      ]
     },
     "execution_count": 175,
     "metadata": {},
     "output_type": "execute_result"
    }
   ],
   "source": [
    "id(copy_cities)"
   ]
  },
  {
   "cell_type": "code",
   "execution_count": 176,
   "id": "97bb84ed",
   "metadata": {},
   "outputs": [],
   "source": [
    "copy_cities.append('sanghar')"
   ]
  },
  {
   "cell_type": "code",
   "execution_count": 177,
   "id": "42f14b5e",
   "metadata": {},
   "outputs": [
    {
     "data": {
      "text/plain": [
       "['kpk', 'kpk', 'kpk', 'multan', 'pindi', 'sanghar']"
      ]
     },
     "execution_count": 177,
     "metadata": {},
     "output_type": "execute_result"
    }
   ],
   "source": [
    "copy_cities"
   ]
  },
  {
   "cell_type": "code",
   "execution_count": 178,
   "id": "97f437b5",
   "metadata": {},
   "outputs": [
    {
     "data": {
      "text/plain": [
       "['kpk', 'kpk', 'kpk', 'multan', 'pindi']"
      ]
     },
     "execution_count": 178,
     "metadata": {},
     "output_type": "execute_result"
    }
   ],
   "source": [
    "cities"
   ]
  },
  {
   "cell_type": "code",
   "execution_count": 179,
   "id": "368974a1",
   "metadata": {},
   "outputs": [],
   "source": [
    "cities.append('chakwal')"
   ]
  },
  {
   "cell_type": "code",
   "execution_count": 180,
   "id": "f33362e2",
   "metadata": {},
   "outputs": [
    {
     "data": {
      "text/plain": [
       "['kpk', 'kpk', 'kpk', 'multan', 'pindi', 'chakwal']"
      ]
     },
     "execution_count": 180,
     "metadata": {},
     "output_type": "execute_result"
    }
   ],
   "source": [
    "cities"
   ]
  },
  {
   "cell_type": "code",
   "execution_count": 181,
   "id": "24b1c2cf",
   "metadata": {},
   "outputs": [
    {
     "data": {
      "text/plain": [
       "['kpk', 'kpk', 'kpk', 'multan', 'pindi', 'sanghar']"
      ]
     },
     "execution_count": 181,
     "metadata": {},
     "output_type": "execute_result"
    }
   ],
   "source": [
    "copy_cities"
   ]
  },
  {
   "cell_type": "code",
   "execution_count": null,
   "id": "f490d753",
   "metadata": {},
   "outputs": [],
   "source": [
    "# Copy by reference"
   ]
  },
  {
   "cell_type": "code",
   "execution_count": 182,
   "id": "04798ff5",
   "metadata": {},
   "outputs": [],
   "source": [
    "another_city = cities"
   ]
  },
  {
   "cell_type": "code",
   "execution_count": 183,
   "id": "57a054c2",
   "metadata": {},
   "outputs": [
    {
     "data": {
      "text/plain": [
       "['kpk', 'kpk', 'kpk', 'multan', 'pindi', 'chakwal']"
      ]
     },
     "execution_count": 183,
     "metadata": {},
     "output_type": "execute_result"
    }
   ],
   "source": [
    "another_city"
   ]
  },
  {
   "cell_type": "code",
   "execution_count": 188,
   "id": "f8ffe65e",
   "metadata": {},
   "outputs": [
    {
     "data": {
      "text/plain": [
       "['kpk', 'kpk', 'kpk', 'multan', 'pindi', 'chakwal', 'skardu']"
      ]
     },
     "execution_count": 188,
     "metadata": {},
     "output_type": "execute_result"
    }
   ],
   "source": [
    "cities"
   ]
  },
  {
   "cell_type": "code",
   "execution_count": 185,
   "id": "d13ccdb7",
   "metadata": {},
   "outputs": [],
   "source": [
    "another_city.append('skardu')"
   ]
  },
  {
   "cell_type": "code",
   "execution_count": 186,
   "id": "069ec94b",
   "metadata": {},
   "outputs": [
    {
     "data": {
      "text/plain": [
       "['kpk', 'kpk', 'kpk', 'multan', 'pindi', 'chakwal', 'skardu']"
      ]
     },
     "execution_count": 186,
     "metadata": {},
     "output_type": "execute_result"
    }
   ],
   "source": [
    "another_city"
   ]
  },
  {
   "cell_type": "code",
   "execution_count": 187,
   "id": "a52663b5",
   "metadata": {},
   "outputs": [
    {
     "data": {
      "text/plain": [
       "['kpk', 'kpk', 'kpk', 'multan', 'pindi', 'chakwal', 'skardu']"
      ]
     },
     "execution_count": 187,
     "metadata": {},
     "output_type": "execute_result"
    }
   ],
   "source": [
    "cities"
   ]
  },
  {
   "cell_type": "code",
   "execution_count": 189,
   "id": "ea55df44",
   "metadata": {},
   "outputs": [
    {
     "data": {
      "text/plain": [
       "3219453796544"
      ]
     },
     "execution_count": 189,
     "metadata": {},
     "output_type": "execute_result"
    }
   ],
   "source": [
    "id(cities)"
   ]
  },
  {
   "cell_type": "code",
   "execution_count": 190,
   "id": "867b995f",
   "metadata": {},
   "outputs": [
    {
     "data": {
      "text/plain": [
       "3219453796544"
      ]
     },
     "execution_count": 190,
     "metadata": {},
     "output_type": "execute_result"
    }
   ],
   "source": [
    "id(another_city)"
   ]
  },
  {
   "cell_type": "code",
   "execution_count": 191,
   "id": "852a2bba",
   "metadata": {},
   "outputs": [],
   "source": [
    "cities.remove('kpk')"
   ]
  },
  {
   "cell_type": "code",
   "execution_count": 192,
   "id": "33206637",
   "metadata": {},
   "outputs": [
    {
     "data": {
      "text/plain": [
       "['kpk', 'kpk', 'multan', 'pindi', 'chakwal', 'skardu']"
      ]
     },
     "execution_count": 192,
     "metadata": {},
     "output_type": "execute_result"
    }
   ],
   "source": [
    "cities"
   ]
  },
  {
   "cell_type": "code",
   "execution_count": 193,
   "id": "5e892b0d",
   "metadata": {},
   "outputs": [
    {
     "data": {
      "text/plain": [
       "['kpk', 'kpk', 'multan', 'pindi', 'chakwal', 'skardu']"
      ]
     },
     "execution_count": 193,
     "metadata": {},
     "output_type": "execute_result"
    }
   ],
   "source": [
    "another_city"
   ]
  },
  {
   "cell_type": "code",
   "execution_count": 194,
   "id": "5edc8ce7",
   "metadata": {},
   "outputs": [],
   "source": [
    "del cities"
   ]
  },
  {
   "cell_type": "code",
   "execution_count": 195,
   "id": "94ee932d",
   "metadata": {},
   "outputs": [
    {
     "data": {
      "text/plain": [
       "['kpk', 'kpk', 'multan', 'pindi', 'chakwal', 'skardu']"
      ]
     },
     "execution_count": 195,
     "metadata": {},
     "output_type": "execute_result"
    }
   ],
   "source": [
    "another_city"
   ]
  },
  {
   "attachments": {
    "image.png": {
     "image/png": "[encoded data removed]"
    }
   },
   "cell_type": "markdown",
   "id": "097f14dd",
   "metadata": {},
   "source": [
    "![image.png](attachment:image.png)"
   ]
  },
  {
   "cell_type": "code",
   "execution_count": 197,
   "id": "b273913c",
   "metadata": {},
   "outputs": [],
   "source": [
    "new_city = another_city "
   ]
  },
  {
   "cell_type": "code",
   "execution_count": 198,
   "id": "ff8eb0ab",
   "metadata": {},
   "outputs": [
    {
     "data": {
      "text/plain": [
       "['kpk', 'kpk', 'multan', 'pindi', 'chakwal', 'skardu']"
      ]
     },
     "execution_count": 198,
     "metadata": {},
     "output_type": "execute_result"
    }
   ],
   "source": [
    "new_city"
   ]
  },
  {
   "cell_type": "code",
   "execution_count": 200,
   "id": "08fc2952",
   "metadata": {},
   "outputs": [
    {
     "data": {
      "text/plain": [
       "False"
      ]
     },
     "execution_count": 200,
     "metadata": {},
     "output_type": "execute_result"
    }
   ],
   "source": [
    "copy_cities is another_city"
   ]
  },
  {
   "cell_type": "code",
   "execution_count": null,
   "id": "4e932e91",
   "metadata": {},
   "outputs": [],
   "source": []
  }
 ],
 "metadata": {
  "kernelspec": {
   "display_name": "Python 3 (ipykernel)",
   "language": "python",
   "name": "python3"
  },
  "language_info": {
   "codemirror_mode": {
    "name": "ipython",
    "version": 3
   },
   "file_extension": ".py",
   "mimetype": "text/x-python",
   "name": "python",
   "nbconvert_exporter": "python",
   "pygments_lexer": "ipython3",
   "version": "3.11.5"
  }
 },
 "nbformat": 4,
 "nbformat_minor": 5
}
