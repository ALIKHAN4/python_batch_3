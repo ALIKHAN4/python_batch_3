{
 "cells": [
  {
   "cell_type": "code",
   "execution_count": null,
   "id": "a164418a",
   "metadata": {},
   "outputs": [],
   "source": [
    "# pip install jupyterthemes\n",
    "# !jt -t monokai\n"
   ]
  },
  {
   "cell_type": "markdown",
   "id": "b6e42e36",
   "metadata": {},
   "source": [
    "# Strings\n",
    "\n",
    "- '', \"\", ''' ''', \"\"\" \"\"\"\n",
    "- Immatuble "
   ]
  },
  {
   "cell_type": "code",
   "execution_count": 2,
   "id": "44cb77ba",
   "metadata": {},
   "outputs": [
    {
     "name": "stdout",
     "output_type": "stream",
     "text": [
      "Enter First name: Bilal\n",
      "Enter Second nameJabbar\n",
      "My first name is Bilal and second name is Jabbar\n"
     ]
    }
   ],
   "source": [
    "first_name = input('Enter First name: ')\n",
    "last_name = input('Enter Second name')\n",
    "\n",
    "print(f'My first name is {first_name} and second name is {last_name}')"
   ]
  },
  {
   "cell_type": "markdown",
   "id": "f97812bd",
   "metadata": {},
   "source": [
    "## Slicing"
   ]
  },
  {
   "cell_type": "code",
   "execution_count": 6,
   "id": "98ac37a9",
   "metadata": {},
   "outputs": [],
   "source": [
    "var = 'Pakistan'"
   ]
  },
  {
   "cell_type": "code",
   "execution_count": 8,
   "id": "711a0fa4",
   "metadata": {},
   "outputs": [
    {
     "data": {
      "text/plain": [
       "'s'"
      ]
     },
     "execution_count": 8,
     "metadata": {},
     "output_type": "execute_result"
    }
   ],
   "source": [
    "var[4:5]\n",
    "#var[start:end-1]"
   ]
  },
  {
   "cell_type": "code",
   "execution_count": 9,
   "id": "e2e49721",
   "metadata": {},
   "outputs": [],
   "source": [
    "# P a k i s t a n\n",
    "# 0 1 2 3 4 5 6 7\n"
   ]
  },
  {
   "cell_type": "code",
   "execution_count": 11,
   "id": "ba04a77d",
   "metadata": {},
   "outputs": [
    {
     "data": {
      "text/plain": [
       "'Pakistan'"
      ]
     },
     "execution_count": 11,
     "metadata": {},
     "output_type": "execute_result"
    }
   ],
   "source": [
    "var[:]"
   ]
  },
  {
   "cell_type": "code",
   "execution_count": 12,
   "id": "d97f1c8b",
   "metadata": {},
   "outputs": [
    {
     "data": {
      "text/plain": [
       "'Pakis'"
      ]
     },
     "execution_count": 12,
     "metadata": {},
     "output_type": "execute_result"
    }
   ],
   "source": [
    "var[:5]"
   ]
  },
  {
   "cell_type": "code",
   "execution_count": 13,
   "id": "19168feb",
   "metadata": {},
   "outputs": [
    {
     "data": {
      "text/plain": [
       "'istan'"
      ]
     },
     "execution_count": 13,
     "metadata": {},
     "output_type": "execute_result"
    }
   ],
   "source": [
    "var[3:]"
   ]
  },
  {
   "cell_type": "code",
   "execution_count": null,
   "id": "e43d8f7d",
   "metadata": {},
   "outputs": [],
   "source": [
    "var[]"
   ]
  },
  {
   "cell_type": "code",
   "execution_count": 14,
   "id": "7e6b9d18",
   "metadata": {},
   "outputs": [],
   "source": [
    "# P   a  k  i  s  t  a  n\n",
    "# -8 -7 -6 -5 -4 -3 -2 -1\n",
    "\n",
    "#Reverse/negative indexing\n"
   ]
  },
  {
   "cell_type": "code",
   "execution_count": 17,
   "id": "3e54a6c8",
   "metadata": {},
   "outputs": [
    {
     "data": {
      "text/plain": [
       "'ista'"
      ]
     },
     "execution_count": 17,
     "metadata": {},
     "output_type": "execute_result"
    }
   ],
   "source": [
    "var[-5:-1]\n",
    "#var[start:end-1]"
   ]
  },
  {
   "cell_type": "code",
   "execution_count": 18,
   "id": "694e772a",
   "metadata": {},
   "outputs": [
    {
     "data": {
      "text/plain": [
       "''"
      ]
     },
     "execution_count": 18,
     "metadata": {},
     "output_type": "execute_result"
    }
   ],
   "source": [
    "var[-1:-5]"
   ]
  },
  {
   "cell_type": "code",
   "execution_count": 24,
   "id": "d285e1da",
   "metadata": {},
   "outputs": [
    {
     "data": {
      "text/plain": [
       "'i'"
      ]
     },
     "execution_count": 24,
     "metadata": {},
     "output_type": "execute_result"
    }
   ],
   "source": [
    "var[-5]"
   ]
  },
  {
   "cell_type": "code",
   "execution_count": 27,
   "id": "446804af",
   "metadata": {},
   "outputs": [
    {
     "data": {
      "text/plain": [
       "'11'"
      ]
     },
     "execution_count": 27,
     "metadata": {},
     "output_type": "execute_result"
    }
   ],
   "source": [
    "'1' + '1'"
   ]
  },
  {
   "cell_type": "markdown",
   "id": "ed154f6e",
   "metadata": {},
   "source": [
    "## String Methods / Functions"
   ]
  },
  {
   "cell_type": "code",
   "execution_count": 32,
   "id": "0c0e34a6",
   "metadata": {},
   "outputs": [
    {
     "data": {
      "text/plain": [
       "'PAKISTAN'"
      ]
     },
     "execution_count": 32,
     "metadata": {},
     "output_type": "execute_result"
    }
   ],
   "source": [
    "var.upper()"
   ]
  },
  {
   "cell_type": "code",
   "execution_count": 34,
   "id": "60ed2510",
   "metadata": {},
   "outputs": [
    {
     "data": {
      "text/plain": [
       "'pakistan'"
      ]
     },
     "execution_count": 34,
     "metadata": {},
     "output_type": "execute_result"
    }
   ],
   "source": [
    "var.lower()"
   ]
  },
  {
   "cell_type": "code",
   "execution_count": 35,
   "id": "e7a7848a",
   "metadata": {},
   "outputs": [],
   "source": [
    "name = 'ali khan'"
   ]
  },
  {
   "cell_type": "code",
   "execution_count": 36,
   "id": "e24f6e9e",
   "metadata": {},
   "outputs": [
    {
     "data": {
      "text/plain": [
       "'Ali Khan'"
      ]
     },
     "execution_count": 36,
     "metadata": {},
     "output_type": "execute_result"
    }
   ],
   "source": [
    "name.title()"
   ]
  },
  {
   "cell_type": "code",
   "execution_count": 37,
   "id": "a0d94b8e",
   "metadata": {},
   "outputs": [
    {
     "data": {
      "text/plain": [
       "'Ali khan'"
      ]
     },
     "execution_count": 37,
     "metadata": {},
     "output_type": "execute_result"
    }
   ],
   "source": [
    "name.capitalize()"
   ]
  },
  {
   "cell_type": "code",
   "execution_count": 38,
   "id": "d88c7f8a",
   "metadata": {},
   "outputs": [],
   "source": [
    "name = ' ali khan '"
   ]
  },
  {
   "cell_type": "code",
   "execution_count": 39,
   "id": "2cec9400",
   "metadata": {},
   "outputs": [
    {
     "data": {
      "text/plain": [
       "'ali khan'"
      ]
     },
     "execution_count": 39,
     "metadata": {},
     "output_type": "execute_result"
    }
   ],
   "source": [
    "name.strip()"
   ]
  },
  {
   "cell_type": "code",
   "execution_count": 40,
   "id": "f5668f1c",
   "metadata": {},
   "outputs": [
    {
     "data": {
      "text/plain": [
       "'ali khan '"
      ]
     },
     "execution_count": 40,
     "metadata": {},
     "output_type": "execute_result"
    }
   ],
   "source": [
    "name.lstrip()"
   ]
  },
  {
   "cell_type": "code",
   "execution_count": 41,
   "id": "afb296d8",
   "metadata": {},
   "outputs": [
    {
     "data": {
      "text/plain": [
       "' ali khan'"
      ]
     },
     "execution_count": 41,
     "metadata": {},
     "output_type": "execute_result"
    }
   ],
   "source": [
    "name.rstrip()"
   ]
  },
  {
   "cell_type": "code",
   "execution_count": 42,
   "id": "0b248728",
   "metadata": {},
   "outputs": [
    {
     "data": {
      "text/plain": [
       "1"
      ]
     },
     "execution_count": 42,
     "metadata": {},
     "output_type": "execute_result"
    }
   ],
   "source": [
    "name.index('a')"
   ]
  },
  {
   "cell_type": "code",
   "execution_count": 43,
   "id": "0c5159f1",
   "metadata": {},
   "outputs": [
    {
     "data": {
      "text/plain": [
       "2"
      ]
     },
     "execution_count": 43,
     "metadata": {},
     "output_type": "execute_result"
    }
   ],
   "source": [
    "name.count('a')"
   ]
  },
  {
   "cell_type": "code",
   "execution_count": 44,
   "id": "9c7a7205",
   "metadata": {},
   "outputs": [
    {
     "data": {
      "text/plain": [
       "' ali khan '"
      ]
     },
     "execution_count": 44,
     "metadata": {},
     "output_type": "execute_result"
    }
   ],
   "source": [
    "name"
   ]
  },
  {
   "cell_type": "code",
   "execution_count": 45,
   "id": "486d6567",
   "metadata": {},
   "outputs": [
    {
     "data": {
      "text/plain": [
       "False"
      ]
     },
     "execution_count": 45,
     "metadata": {},
     "output_type": "execute_result"
    }
   ],
   "source": [
    "name.isupper()"
   ]
  },
  {
   "cell_type": "code",
   "execution_count": 46,
   "id": "c76364c1",
   "metadata": {},
   "outputs": [
    {
     "data": {
      "text/plain": [
       "True"
      ]
     },
     "execution_count": 46,
     "metadata": {},
     "output_type": "execute_result"
    }
   ],
   "source": [
    "name.islower()"
   ]
  },
  {
   "cell_type": "code",
   "execution_count": 47,
   "id": "930c4117",
   "metadata": {},
   "outputs": [
    {
     "data": {
      "text/plain": [
       "False"
      ]
     },
     "execution_count": 47,
     "metadata": {},
     "output_type": "execute_result"
    }
   ],
   "source": [
    "name.istitle()"
   ]
  },
  {
   "cell_type": "code",
   "execution_count": 48,
   "id": "78a48b6d",
   "metadata": {},
   "outputs": [],
   "source": [
    "name = 'fahad warsi'"
   ]
  },
  {
   "cell_type": "code",
   "execution_count": 51,
   "id": "0ff1ec8c",
   "metadata": {},
   "outputs": [
    {
     "data": {
      "text/plain": [
       "True"
      ]
     },
     "execution_count": 51,
     "metadata": {},
     "output_type": "execute_result"
    }
   ],
   "source": [
    "name.endswith('i')"
   ]
  },
  {
   "cell_type": "code",
   "execution_count": 54,
   "id": "39a14905",
   "metadata": {},
   "outputs": [
    {
     "data": {
      "text/plain": [
       "True"
      ]
     },
     "execution_count": 54,
     "metadata": {},
     "output_type": "execute_result"
    }
   ],
   "source": [
    "name.startswith('f')"
   ]
  },
  {
   "cell_type": "code",
   "execution_count": 59,
   "id": "a67074fe",
   "metadata": {},
   "outputs": [
    {
     "data": {
      "text/plain": [
       "18"
      ]
     },
     "execution_count": 59,
     "metadata": {},
     "output_type": "execute_result"
    }
   ],
   "source": [
    "ord('S') - ord('A')"
   ]
  },
  {
   "cell_type": "code",
   "execution_count": 60,
   "id": "192188e6",
   "metadata": {},
   "outputs": [
    {
     "data": {
      "text/plain": [
       "False"
      ]
     },
     "execution_count": 60,
     "metadata": {},
     "output_type": "execute_result"
    }
   ],
   "source": [
    "name.isspace()"
   ]
  },
  {
   "cell_type": "code",
   "execution_count": 61,
   "id": "2bb155b1",
   "metadata": {},
   "outputs": [],
   "source": [
    "name = ' '"
   ]
  },
  {
   "cell_type": "code",
   "execution_count": 62,
   "id": "3428f599",
   "metadata": {},
   "outputs": [
    {
     "data": {
      "text/plain": [
       "True"
      ]
     },
     "execution_count": 62,
     "metadata": {},
     "output_type": "execute_result"
    }
   ],
   "source": [
    "name.isspace()"
   ]
  },
  {
   "cell_type": "code",
   "execution_count": 72,
   "id": "192a1697",
   "metadata": {},
   "outputs": [],
   "source": [
    "name = 'fahad bhai'"
   ]
  },
  {
   "cell_type": "code",
   "execution_count": 73,
   "id": "68948f06",
   "metadata": {},
   "outputs": [
    {
     "data": {
      "text/plain": [
       "False"
      ]
     },
     "execution_count": 73,
     "metadata": {},
     "output_type": "execute_result"
    }
   ],
   "source": [
    "name.isalpha()"
   ]
  },
  {
   "cell_type": "code",
   "execution_count": 74,
   "id": "feb0731a",
   "metadata": {},
   "outputs": [
    {
     "data": {
      "text/plain": [
       "False"
      ]
     },
     "execution_count": 74,
     "metadata": {},
     "output_type": "execute_result"
    }
   ],
   "source": [
    "name.isalnum()"
   ]
  },
  {
   "cell_type": "code",
   "execution_count": 75,
   "id": "6f07ab9c",
   "metadata": {},
   "outputs": [],
   "source": [
    "name = 'pakistan'"
   ]
  },
  {
   "cell_type": "code",
   "execution_count": 76,
   "id": "143cf553",
   "metadata": {},
   "outputs": [
    {
     "data": {
      "text/plain": [
       "True"
      ]
     },
     "execution_count": 76,
     "metadata": {},
     "output_type": "execute_result"
    }
   ],
   "source": [
    "name.isalpha()"
   ]
  },
  {
   "cell_type": "code",
   "execution_count": 77,
   "id": "a1c64065",
   "metadata": {},
   "outputs": [
    {
     "data": {
      "text/plain": [
       "True"
      ]
     },
     "execution_count": 77,
     "metadata": {},
     "output_type": "execute_result"
    }
   ],
   "source": [
    "name.isalnum()"
   ]
  },
  {
   "cell_type": "code",
   "execution_count": 78,
   "id": "aab25d8e",
   "metadata": {},
   "outputs": [],
   "source": [
    "name = '321pillay'"
   ]
  },
  {
   "cell_type": "code",
   "execution_count": 79,
   "id": "addd3fc2",
   "metadata": {},
   "outputs": [
    {
     "data": {
      "text/plain": [
       "False"
      ]
     },
     "execution_count": 79,
     "metadata": {},
     "output_type": "execute_result"
    }
   ],
   "source": [
    "name.isalpha()"
   ]
  },
  {
   "cell_type": "code",
   "execution_count": 80,
   "id": "9fd1be20",
   "metadata": {},
   "outputs": [
    {
     "data": {
      "text/plain": [
       "True"
      ]
     },
     "execution_count": 80,
     "metadata": {},
     "output_type": "execute_result"
    }
   ],
   "source": [
    "name.isalnum()"
   ]
  },
  {
   "cell_type": "code",
   "execution_count": 85,
   "id": "ebebbad0",
   "metadata": {},
   "outputs": [],
   "source": [
    "var = '1233'"
   ]
  },
  {
   "cell_type": "code",
   "execution_count": 86,
   "id": "1ada45bc",
   "metadata": {},
   "outputs": [
    {
     "data": {
      "text/plain": [
       "True"
      ]
     },
     "execution_count": 86,
     "metadata": {},
     "output_type": "execute_result"
    }
   ],
   "source": [
    "var.isalnum()"
   ]
  },
  {
   "cell_type": "code",
   "execution_count": 91,
   "id": "75ac409f",
   "metadata": {},
   "outputs": [],
   "source": [
    "new_var = var.replace('33', '44')"
   ]
  },
  {
   "cell_type": "code",
   "execution_count": 92,
   "id": "ea32ab26",
   "metadata": {},
   "outputs": [
    {
     "data": {
      "text/plain": [
       "'1244'"
      ]
     },
     "execution_count": 92,
     "metadata": {},
     "output_type": "execute_result"
    }
   ],
   "source": [
    "new_var"
   ]
  },
  {
   "cell_type": "code",
   "execution_count": 93,
   "id": "df6f028a",
   "metadata": {},
   "outputs": [
    {
     "name": "stdout",
     "output_type": "stream",
     "text": [
      "2306869942256\n",
      "2306869592560\n"
     ]
    }
   ],
   "source": [
    "print(id(var))\n",
    "print(id(new_var))"
   ]
  },
  {
   "cell_type": "markdown",
   "id": "13273db0",
   "metadata": {},
   "source": [
    "Summary of Differences\n",
    "isdigit(): Includes digits and some other Unicode numeric characters like superscripts and subscripts.\n",
    "isnumeric(): Includes all characters that are considered numeric in Unicode, including fractions, Roman numerals, and more.\n",
    "isdecimal(): Includes only decimal digits (0-9)."
   ]
  },
  {
   "cell_type": "code",
   "execution_count": 97,
   "id": "2568ff30",
   "metadata": {},
   "outputs": [],
   "source": [
    "strings = ['123', '123.2', '²', '½', '٣']\n"
   ]
  },
  {
   "cell_type": "markdown",
   "id": "a8bccd25",
   "metadata": {},
   "source": [
    "### isdigit"
   ]
  },
  {
   "cell_type": "code",
   "execution_count": 105,
   "id": "50b51aa5",
   "metadata": {},
   "outputs": [
    {
     "data": {
      "text/plain": [
       "True"
      ]
     },
     "execution_count": 105,
     "metadata": {},
     "output_type": "execute_result"
    }
   ],
   "source": [
    "'123'.isdigit()"
   ]
  },
  {
   "cell_type": "code",
   "execution_count": 102,
   "id": "93d1c3d8",
   "metadata": {},
   "outputs": [
    {
     "data": {
      "text/plain": [
       "True"
      ]
     },
     "execution_count": 102,
     "metadata": {},
     "output_type": "execute_result"
    }
   ],
   "source": [
    "'²'.isdigit()"
   ]
  },
  {
   "cell_type": "code",
   "execution_count": 104,
   "id": "10a7e151",
   "metadata": {},
   "outputs": [
    {
     "data": {
      "text/plain": [
       "True"
      ]
     },
     "execution_count": 104,
     "metadata": {},
     "output_type": "execute_result"
    }
   ],
   "source": [
    "'٣'.isdigit()"
   ]
  },
  {
   "cell_type": "markdown",
   "id": "2c83b490",
   "metadata": {},
   "source": [
    "### isnumeric"
   ]
  },
  {
   "cell_type": "code",
   "execution_count": 106,
   "id": "7eec9086",
   "metadata": {},
   "outputs": [
    {
     "data": {
      "text/plain": [
       "True"
      ]
     },
     "execution_count": 106,
     "metadata": {},
     "output_type": "execute_result"
    }
   ],
   "source": [
    "'123'.isnumeric()"
   ]
  },
  {
   "cell_type": "code",
   "execution_count": 107,
   "id": "0a1aa435",
   "metadata": {},
   "outputs": [
    {
     "data": {
      "text/plain": [
       "True"
      ]
     },
     "execution_count": 107,
     "metadata": {},
     "output_type": "execute_result"
    }
   ],
   "source": [
    "'²'.isnumeric()"
   ]
  },
  {
   "cell_type": "code",
   "execution_count": 108,
   "id": "f70ce918",
   "metadata": {},
   "outputs": [
    {
     "data": {
      "text/plain": [
       "True"
      ]
     },
     "execution_count": 108,
     "metadata": {},
     "output_type": "execute_result"
    }
   ],
   "source": [
    "'٣'.isnumeric()"
   ]
  },
  {
   "cell_type": "code",
   "execution_count": 109,
   "id": "e9e6f501",
   "metadata": {},
   "outputs": [
    {
     "data": {
      "text/plain": [
       "True"
      ]
     },
     "execution_count": 109,
     "metadata": {},
     "output_type": "execute_result"
    }
   ],
   "source": [
    "'½'.isnumeric()"
   ]
  },
  {
   "cell_type": "markdown",
   "id": "f44454dd",
   "metadata": {},
   "source": [
    "### isdecimal"
   ]
  },
  {
   "cell_type": "code",
   "execution_count": 117,
   "id": "caf8ad3f",
   "metadata": {},
   "outputs": [
    {
     "data": {
      "text/plain": [
       "True"
      ]
     },
     "execution_count": 117,
     "metadata": {},
     "output_type": "execute_result"
    }
   ],
   "source": [
    "'123'.isdecimal()"
   ]
  },
  {
   "cell_type": "code",
   "execution_count": 115,
   "id": "2c97d152",
   "metadata": {},
   "outputs": [
    {
     "data": {
      "text/plain": [
       "True"
      ]
     },
     "execution_count": 115,
     "metadata": {},
     "output_type": "execute_result"
    }
   ],
   "source": [
    "'٣'.isdecimal()"
   ]
  },
  {
   "cell_type": "code",
   "execution_count": 120,
   "id": "637cb0bf",
   "metadata": {},
   "outputs": [
    {
     "data": {
      "text/plain": [
       "True"
      ]
     },
     "execution_count": 120,
     "metadata": {},
     "output_type": "execute_result"
    }
   ],
   "source": [
    "type(float('123.2')) == float"
   ]
  },
  {
   "cell_type": "code",
   "execution_count": 124,
   "id": "4980ecf1",
   "metadata": {},
   "outputs": [
    {
     "data": {
      "text/plain": [
       "False"
      ]
     },
     "execution_count": 124,
     "metadata": {},
     "output_type": "execute_result"
    }
   ],
   "source": [
    "'ali khan'.isspace()"
   ]
  },
  {
   "cell_type": "code",
   "execution_count": 125,
   "id": "25bc3354",
   "metadata": {},
   "outputs": [],
   "source": [
    "num = 123"
   ]
  },
  {
   "cell_type": "code",
   "execution_count": 127,
   "id": "293d8e13",
   "metadata": {},
   "outputs": [],
   "source": [
    "var = '''\n",
    "name = ali khan\n",
    "class = kg1\n",
    "school = armypublic school\n",
    "\n",
    "'''"
   ]
  },
  {
   "cell_type": "code",
   "execution_count": 132,
   "id": "47d1afed",
   "metadata": {},
   "outputs": [],
   "source": [
    "var = 'ali khan'"
   ]
  },
  {
   "cell_type": "code",
   "execution_count": 136,
   "id": "85ec5e63",
   "metadata": {},
   "outputs": [
    {
     "data": {
      "text/plain": [
       "True"
      ]
     },
     "execution_count": 136,
     "metadata": {},
     "output_type": "execute_result"
    }
   ],
   "source": [
    "'khan' in var"
   ]
  },
  {
   "cell_type": "code",
   "execution_count": 138,
   "id": "223b7bb5",
   "metadata": {},
   "outputs": [
    {
     "data": {
      "text/plain": [
       "'bli khbn'"
      ]
     },
     "execution_count": 138,
     "metadata": {},
     "output_type": "execute_result"
    }
   ],
   "source": [
    "var.replace('a', 'b')"
   ]
  },
  {
   "cell_type": "code",
   "execution_count": 151,
   "id": "1b327293",
   "metadata": {},
   "outputs": [
    {
     "data": {
      "text/plain": [
       "-1"
      ]
     },
     "execution_count": 151,
     "metadata": {},
     "output_type": "execute_result"
    }
   ],
   "source": [
    "var.find('pytho')"
   ]
  },
  {
   "cell_type": "code",
   "execution_count": 157,
   "id": "298d126d",
   "metadata": {},
   "outputs": [
    {
     "name": "stdout",
     "output_type": "stream",
     "text": [
      "d!\n"
     ]
    }
   ],
   "source": [
    "string = \"Hello, World!\"\n",
    "print(string[-2:])"
   ]
  },
  {
   "cell_type": "code",
   "execution_count": 158,
   "id": "c20170bb",
   "metadata": {},
   "outputs": [],
   "source": [
    "#string[start:end+1:step]"
   ]
  },
  {
   "cell_type": "code",
   "execution_count": 159,
   "id": "909affe4",
   "metadata": {},
   "outputs": [
    {
     "name": "stdout",
     "output_type": "stream",
     "text": [
      "('Hello', ',', ' World!')\n"
     ]
    }
   ],
   "source": []
  },
  {
   "cell_type": "code",
   "execution_count": null,
   "id": "9faba6b6",
   "metadata": {},
   "outputs": [],
   "source": []
  }
 ],
 "metadata": {
  "kernelspec": {
   "display_name": "Python 3 (ipykernel)",
   "language": "python",
   "name": "python3"
  },
  "language_info": {
   "codemirror_mode": {
    "name": "ipython",
    "version": 3
   },
   "file_extension": ".py",
   "mimetype": "text/x-python",
   "name": "python",
   "nbconvert_exporter": "python",
   "pygments_lexer": "ipython3",
   "version": "3.11.5"
  }
 },
 "nbformat": 4,
 "nbformat_minor": 5
}
