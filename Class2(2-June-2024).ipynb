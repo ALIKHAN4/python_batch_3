{
 "cells": [
  {
   "cell_type": "code",
   "execution_count": 1,
   "id": "1f53dd69",
   "metadata": {},
   "outputs": [
    {
     "name": "stdout",
     "output_type": "stream",
     "text": [
      "4\n"
     ]
    }
   ],
   "source": [
    "print(2+2)"
   ]
  },
  {
   "cell_type": "code",
   "execution_count": 2,
   "id": "a0276a1f",
   "metadata": {},
   "outputs": [
    {
     "data": {
      "text/plain": [
       "4"
      ]
     },
     "execution_count": 2,
     "metadata": {},
     "output_type": "execute_result"
    }
   ],
   "source": [
    "2+2"
   ]
  },
  {
   "cell_type": "code",
   "execution_count": 3,
   "id": "f240e878",
   "metadata": {},
   "outputs": [
    {
     "name": "stdout",
     "output_type": "stream",
     "text": [
      "3.2\n"
     ]
    }
   ],
   "source": [
    "print(2+1.2)"
   ]
  },
  {
   "cell_type": "markdown",
   "id": "770fb7d1",
   "metadata": {},
   "source": [
    "# Variables"
   ]
  },
  {
   "cell_type": "markdown",
   "id": "3893c230",
   "metadata": {},
   "source": [
    "- Containers that stores some value"
   ]
  },
  {
   "cell_type": "code",
   "execution_count": 5,
   "id": "a56ef165",
   "metadata": {},
   "outputs": [
    {
     "name": "stdout",
     "output_type": "stream",
     "text": [
      "30\n"
     ]
    }
   ],
   "source": [
    "# = is an assignment operator\n",
    "a = 10 # a value 10 is assigned to a variable a(from right to left)\n",
    "b = 20 # a value 10 is assigned to a variable b\n",
    "c = a + b\n",
    "\n",
    "print(c)"
   ]
  },
  {
   "cell_type": "code",
   "execution_count": 6,
   "id": "f9322f20",
   "metadata": {},
   "outputs": [
    {
     "name": "stdout",
     "output_type": "stream",
     "text": [
      "10\n"
     ]
    }
   ],
   "source": [
    "a = 20\n",
    "b = 10 \n",
    "c = a-b\n",
    "\n",
    "print(c)"
   ]
  },
  {
   "cell_type": "code",
   "execution_count": 7,
   "id": "fb2bc935",
   "metadata": {},
   "outputs": [
    {
     "name": "stdout",
     "output_type": "stream",
     "text": [
      "200\n"
     ]
    }
   ],
   "source": [
    "a = 20\n",
    "b = 10 \n",
    "c = a*b\n",
    "\n",
    "print(c)"
   ]
  },
  {
   "cell_type": "code",
   "execution_count": 34,
   "id": "01a5e058",
   "metadata": {},
   "outputs": [
    {
     "ename": "TypeError",
     "evalue": "'str' object is not callable",
     "output_type": "error",
     "traceback": [
      "\u001b[1;31m---------------------------------------------------------------------------\u001b[0m",
      "\u001b[1;31mTypeError\u001b[0m                                 Traceback (most recent call last)",
      "Cell \u001b[1;32mIn[34], line 5\u001b[0m\n\u001b[0;32m      2\u001b[0m b \u001b[38;5;241m=\u001b[39m \u001b[38;5;241m10\u001b[39m \n\u001b[0;32m      3\u001b[0m c \u001b[38;5;241m=\u001b[39m a\u001b[38;5;241m/\u001b[39mb\n\u001b[1;32m----> 5\u001b[0m \u001b[38;5;28mprint\u001b[39m(c)\n",
      "\u001b[1;31mTypeError\u001b[0m: 'str' object is not callable"
     ]
    }
   ],
   "source": [
    "a = 20\n",
    "b = 10 \n",
    "c = a/b\n",
    "\n",
    "print(c)"
   ]
  },
  {
   "cell_type": "code",
   "execution_count": 33,
   "id": "fd3f56ce",
   "metadata": {},
   "outputs": [
    {
     "ename": "TypeError",
     "evalue": "'str' object is not callable",
     "output_type": "error",
     "traceback": [
      "\u001b[1;31m---------------------------------------------------------------------------\u001b[0m",
      "\u001b[1;31mTypeError\u001b[0m                                 Traceback (most recent call last)",
      "Cell \u001b[1;32mIn[33], line 4\u001b[0m\n\u001b[0;32m      1\u001b[0m first_name \u001b[38;5;241m=\u001b[39m \u001b[38;5;124m'\u001b[39m\u001b[38;5;124mali\u001b[39m\u001b[38;5;124m'\u001b[39m\n\u001b[0;32m      2\u001b[0m last_name \u001b[38;5;241m=\u001b[39m \u001b[38;5;124m'\u001b[39m\u001b[38;5;124mkhan\u001b[39m\u001b[38;5;124m'\u001b[39m\n\u001b[1;32m----> 4\u001b[0m \u001b[38;5;28mprint\u001b[39m(first_name, last_name)\n",
      "\u001b[1;31mTypeError\u001b[0m: 'str' object is not callable"
     ]
    }
   ],
   "source": [
    "first_name = 'ali'\n",
    "last_name = 'khan'\n",
    "\n",
    "print(first_name, last_name)"
   ]
  },
  {
   "cell_type": "code",
   "execution_count": null,
   "id": "0d92de6c",
   "metadata": {},
   "outputs": [],
   "source": []
  },
  {
   "cell_type": "code",
   "execution_count": null,
   "id": "4c5c31d6",
   "metadata": {},
   "outputs": [],
   "source": []
  },
  {
   "cell_type": "code",
   "execution_count": 9,
   "id": "778e514b",
   "metadata": {},
   "outputs": [
    {
     "name": "stdout",
     "output_type": "stream",
     "text": [
      "True\n"
     ]
    }
   ],
   "source": [
    "var = 2\n",
    "print(var>=2.0)"
   ]
  },
  {
   "cell_type": "markdown",
   "id": "64b4787b",
   "metadata": {},
   "source": [
    "# Rules For naming Variable name\n",
    "\n",
    "- A variable can only be started with _ and alphabetic character.\n",
    "- There can be only _ between variables name\n",
    "- Keywords/special characters can not be used as varibale name i.e print, len, type etc"
   ]
  },
  {
   "cell_type": "markdown",
   "id": "6ff56821",
   "metadata": {},
   "source": [
    "## Data Types\n",
    "\n",
    "- Numbers=========>Integers(int)\n",
    "- Alphabets/Text========>String(str)\n",
    "- Decimal Numbers========>Float(float)\n",
    "- True/False, 0/1, yes/no=====>Boolean(bool)"
   ]
  },
  {
   "cell_type": "code",
   "execution_count": 35,
   "id": "b8b43ebb",
   "metadata": {},
   "outputs": [],
   "source": [
    "del print"
   ]
  },
  {
   "cell_type": "code",
   "execution_count": 38,
   "id": "8d74de33",
   "metadata": {},
   "outputs": [],
   "source": [
    "a = 'my name is ali khan'\n",
    "b = 12\n",
    "c = 12.2\n",
    "d = True"
   ]
  },
  {
   "cell_type": "code",
   "execution_count": 40,
   "id": "e033885f",
   "metadata": {},
   "outputs": [],
   "source": [
    "del type"
   ]
  },
  {
   "cell_type": "code",
   "execution_count": 48,
   "id": "a364cf0c",
   "metadata": {},
   "outputs": [
    {
     "data": {
      "text/plain": [
       "bool"
      ]
     },
     "execution_count": 48,
     "metadata": {},
     "output_type": "execute_result"
    }
   ],
   "source": [
    "type(a)\n",
    "type(b)\n",
    "type(c)\n",
    "type(d)"
   ]
  },
  {
   "cell_type": "code",
   "execution_count": 49,
   "id": "1da3ef37",
   "metadata": {},
   "outputs": [
    {
     "name": "stdout",
     "output_type": "stream",
     "text": [
      "<class 'str'>\n",
      "<class 'int'>\n",
      "<class 'float'>\n",
      "<class 'bool'>\n"
     ]
    }
   ],
   "source": [
    "print(type(a))\n",
    "print(type(b))\n",
    "print(type(c))\n",
    "print(type(d))\n"
   ]
  },
  {
   "cell_type": "code",
   "execution_count": 53,
   "id": "1457952c",
   "metadata": {},
   "outputs": [],
   "source": [
    "length = len(a)\n"
   ]
  },
  {
   "cell_type": "code",
   "execution_count": 52,
   "id": "ab4544ef",
   "metadata": {},
   "outputs": [
    {
     "name": "stdout",
     "output_type": "stream",
     "text": [
      "19\n"
     ]
    }
   ],
   "source": [
    "print(length)"
   ]
  },
  {
   "cell_type": "code",
   "execution_count": 56,
   "id": "001b86e3",
   "metadata": {},
   "outputs": [
    {
     "ename": "TypeError",
     "evalue": "object of type 'bool' has no len()",
     "output_type": "error",
     "traceback": [
      "\u001b[1;31m---------------------------------------------------------------------------\u001b[0m",
      "\u001b[1;31mTypeError\u001b[0m                                 Traceback (most recent call last)",
      "Cell \u001b[1;32mIn[56], line 1\u001b[0m\n\u001b[1;32m----> 1\u001b[0m \u001b[38;5;28mlen\u001b[39m(d)\n",
      "\u001b[1;31mTypeError\u001b[0m: object of type 'bool' has no len()"
     ]
    }
   ],
   "source": [
    "len(d)"
   ]
  },
  {
   "cell_type": "code",
   "execution_count": 59,
   "id": "934754dc",
   "metadata": {},
   "outputs": [
    {
     "data": {
      "text/plain": [
       "2285316179968"
      ]
     },
     "execution_count": 59,
     "metadata": {},
     "output_type": "execute_result"
    }
   ],
   "source": [
    "id(a)"
   ]
  },
  {
   "cell_type": "code",
   "execution_count": 60,
   "id": "98dfdbad",
   "metadata": {},
   "outputs": [],
   "source": [
    "a = 'my name is bilal'"
   ]
  },
  {
   "cell_type": "code",
   "execution_count": 70,
   "id": "6d01c3c2",
   "metadata": {},
   "outputs": [
    {
     "data": {
      "text/plain": [
       "140733852390376"
      ]
     },
     "execution_count": 70,
     "metadata": {},
     "output_type": "execute_result"
    }
   ],
   "source": [
    "id(a)"
   ]
  },
  {
   "cell_type": "code",
   "execution_count": 62,
   "id": "d6507416",
   "metadata": {},
   "outputs": [],
   "source": [
    "b = 12"
   ]
  },
  {
   "cell_type": "code",
   "execution_count": 63,
   "id": "7fc2f7ca",
   "metadata": {},
   "outputs": [
    {
     "data": {
      "text/plain": [
       "140733852390536"
      ]
     },
     "execution_count": 63,
     "metadata": {},
     "output_type": "execute_result"
    }
   ],
   "source": [
    "id(b)"
   ]
  },
  {
   "cell_type": "code",
   "execution_count": 64,
   "id": "4dbe99aa",
   "metadata": {},
   "outputs": [],
   "source": [
    "b = 'ali'"
   ]
  },
  {
   "cell_type": "code",
   "execution_count": 65,
   "id": "6ed8c69b",
   "metadata": {},
   "outputs": [
    {
     "data": {
      "text/plain": [
       "2285302328688"
      ]
     },
     "execution_count": 65,
     "metadata": {},
     "output_type": "execute_result"
    }
   ],
   "source": [
    "id(b)"
   ]
  },
  {
   "cell_type": "code",
   "execution_count": 67,
   "id": "325b6db8",
   "metadata": {},
   "outputs": [
    {
     "name": "stdout",
     "output_type": "stream",
     "text": [
      "4\n",
      "6\n"
     ]
    }
   ],
   "source": [
    "print(2+2)\n",
    "print(3+3)"
   ]
  },
  {
   "cell_type": "code",
   "execution_count": 68,
   "id": "830d57c8",
   "metadata": {},
   "outputs": [],
   "source": [
    "a = 7"
   ]
  },
  {
   "cell_type": "code",
   "execution_count": 69,
   "id": "bcc698de",
   "metadata": {},
   "outputs": [
    {
     "data": {
      "text/plain": [
       "140733852390376"
      ]
     },
     "execution_count": 69,
     "metadata": {},
     "output_type": "execute_result"
    }
   ],
   "source": [
    "id(a)"
   ]
  },
  {
   "cell_type": "markdown",
   "id": "1856dc87",
   "metadata": {},
   "source": [
    "# Operators"
   ]
  },
  {
   "cell_type": "markdown",
   "id": "72476f1a",
   "metadata": {},
   "source": [
    "## Arthimetic operators\n",
    "\n",
    "- plus\n",
    "- minus\n",
    "- multiply\n",
    "- divide\n",
    "- exponent/power\n",
    "- modulus"
   ]
  },
  {
   "cell_type": "code",
   "execution_count": 72,
   "id": "c36ba15e",
   "metadata": {},
   "outputs": [],
   "source": [
    "num1 = 10\n",
    "num2 = 20\n",
    "result = num1+num2"
   ]
  },
  {
   "cell_type": "code",
   "execution_count": 73,
   "id": "ab7eba5d",
   "metadata": {},
   "outputs": [
    {
     "name": "stdout",
     "output_type": "stream",
     "text": [
      "30\n"
     ]
    }
   ],
   "source": [
    "print(result)"
   ]
  },
  {
   "cell_type": "code",
   "execution_count": 74,
   "id": "af2c3fe3",
   "metadata": {},
   "outputs": [],
   "source": [
    "num1 = 10\n",
    "num2 = 20\n",
    "result = num1-num2"
   ]
  },
  {
   "cell_type": "code",
   "execution_count": 75,
   "id": "236f37d4",
   "metadata": {},
   "outputs": [
    {
     "name": "stdout",
     "output_type": "stream",
     "text": [
      "-10\n"
     ]
    }
   ],
   "source": [
    "print(result)"
   ]
  },
  {
   "cell_type": "code",
   "execution_count": 76,
   "id": "22fafdba",
   "metadata": {},
   "outputs": [],
   "source": [
    "num1 = 10\n",
    "num2 = 20\n",
    "result = num1*num2"
   ]
  },
  {
   "cell_type": "code",
   "execution_count": 77,
   "id": "a1bb247f",
   "metadata": {},
   "outputs": [
    {
     "name": "stdout",
     "output_type": "stream",
     "text": [
      "200\n"
     ]
    }
   ],
   "source": [
    "print(result)"
   ]
  },
  {
   "cell_type": "code",
   "execution_count": 86,
   "id": "b896ad58",
   "metadata": {},
   "outputs": [],
   "source": [
    "num1 = 25\n",
    "num2 = 7\n",
    "result = num1/num2\n",
    "\n",
    "# / performs floating point division"
   ]
  },
  {
   "cell_type": "code",
   "execution_count": 87,
   "id": "bbd70870",
   "metadata": {},
   "outputs": [
    {
     "name": "stdout",
     "output_type": "stream",
     "text": [
      "3.5714285714285716\n"
     ]
    }
   ],
   "source": [
    "print(result)"
   ]
  },
  {
   "cell_type": "code",
   "execution_count": 88,
   "id": "c7e432ec",
   "metadata": {},
   "outputs": [],
   "source": [
    "num1 = 25\n",
    "num2 = 7\n",
    "result = num1//num2\n",
    "\n",
    "# / performs integer division and discards the decimal points\n"
   ]
  },
  {
   "cell_type": "code",
   "execution_count": 89,
   "id": "6088f228",
   "metadata": {},
   "outputs": [
    {
     "name": "stdout",
     "output_type": "stream",
     "text": [
      "3\n"
     ]
    }
   ],
   "source": [
    "print(result)"
   ]
  },
  {
   "cell_type": "code",
   "execution_count": 91,
   "id": "8e4bd8bc",
   "metadata": {},
   "outputs": [
    {
     "data": {
      "text/plain": [
       "0"
      ]
     },
     "execution_count": 91,
     "metadata": {},
     "output_type": "execute_result"
    }
   ],
   "source": [
    "1//2"
   ]
  },
  {
   "cell_type": "code",
   "execution_count": 93,
   "id": "f9fd5400",
   "metadata": {},
   "outputs": [
    {
     "data": {
      "text/plain": [
       "1"
      ]
     },
     "execution_count": 93,
     "metadata": {},
     "output_type": "execute_result"
    }
   ],
   "source": [
    "10%3"
   ]
  },
  {
   "cell_type": "code",
   "execution_count": 100,
   "id": "7f0b07dc",
   "metadata": {},
   "outputs": [
    {
     "data": {
      "text/plain": [
       "81"
      ]
     },
     "execution_count": 100,
     "metadata": {},
     "output_type": "execute_result"
    }
   ],
   "source": [
    "3**4"
   ]
  },
  {
   "cell_type": "code",
   "execution_count": 101,
   "id": "dcf457d4",
   "metadata": {},
   "outputs": [],
   "source": [
    "a = 20\n",
    "b = 10\n",
    "c = 5\n",
    "d = 2"
   ]
  },
  {
   "cell_type": "markdown",
   "id": "56a9cd72",
   "metadata": {},
   "source": [
    "## Operator precedence "
   ]
  },
  {
   "cell_type": "markdown",
   "id": "b72f558d",
   "metadata": {},
   "source": [
    "- BODMAS\n",
    "- PEMDAS"
   ]
  },
  {
   "cell_type": "code",
   "execution_count": 105,
   "id": "45c4c7d9",
   "metadata": {},
   "outputs": [
    {
     "data": {
      "text/plain": [
       "25"
      ]
     },
     "execution_count": 105,
     "metadata": {},
     "output_type": "execute_result"
    }
   ],
   "source": [
    "a+b-c"
   ]
  },
  {
   "cell_type": "code",
   "execution_count": 106,
   "id": "51616fc9",
   "metadata": {},
   "outputs": [
    {
     "data": {
      "text/plain": [
       "40.0"
      ]
     },
     "execution_count": 106,
     "metadata": {},
     "output_type": "execute_result"
    }
   ],
   "source": [
    "a*b/c"
   ]
  },
  {
   "cell_type": "code",
   "execution_count": 109,
   "id": "d8aab5c6",
   "metadata": {},
   "outputs": [
    {
     "data": {
      "text/plain": [
       "10.0"
      ]
     },
     "execution_count": 109,
     "metadata": {},
     "output_type": "execute_result"
    }
   ],
   "source": [
    "a/b*c"
   ]
  },
  {
   "cell_type": "code",
   "execution_count": 110,
   "id": "adca4e20",
   "metadata": {},
   "outputs": [
    {
     "data": {
      "text/plain": [
       "0.4"
      ]
     },
     "execution_count": 110,
     "metadata": {},
     "output_type": "execute_result"
    }
   ],
   "source": [
    "20/50"
   ]
  },
  {
   "cell_type": "code",
   "execution_count": 111,
   "id": "e291e80d",
   "metadata": {},
   "outputs": [
    {
     "name": "stdout",
     "output_type": "stream",
     "text": [
      "25\n",
      "15\n"
     ]
    }
   ],
   "source": [
    "print(a+b-c)\n",
    "print(a-b+c)"
   ]
  },
  {
   "cell_type": "code",
   "execution_count": 112,
   "id": "4214d10d",
   "metadata": {},
   "outputs": [
    {
     "data": {
      "text/plain": [
       "512"
      ]
     },
     "execution_count": 112,
     "metadata": {},
     "output_type": "execute_result"
    }
   ],
   "source": [
    "2**3**2"
   ]
  },
  {
   "cell_type": "markdown",
   "id": "56adbb8a",
   "metadata": {},
   "source": [
    "- / and *, left to right\n",
    "- plus and minus, left to right \n",
    "- power, right to left\n",
    "\n",
    "- divide = /, //, %"
   ]
  },
  {
   "cell_type": "code",
   "execution_count": 116,
   "id": "c548111e",
   "metadata": {},
   "outputs": [
    {
     "data": {
      "text/plain": [
       "-22.0"
      ]
     },
     "execution_count": 116,
     "metadata": {},
     "output_type": "execute_result"
    }
   ],
   "source": [
    "a//b*c/d+c-d**c"
   ]
  },
  {
   "cell_type": "code",
   "execution_count": null,
   "id": "e32e54f8",
   "metadata": {},
   "outputs": [],
   "source": [
    "a//b*c/d+c-32"
   ]
  },
  {
   "cell_type": "code",
   "execution_count": 117,
   "id": "87c6ca0f",
   "metadata": {},
   "outputs": [],
   "source": [
    "# 2*c/d+c-32\n",
    "# 10/d+c-32\n",
    "# 5+c-32\n",
    "# 10-32"
   ]
  },
  {
   "cell_type": "markdown",
   "id": "4cd123b5",
   "metadata": {},
   "source": [
    "## Relational operator\n",
    "- less than ===  <\n",
    "- greater than ===== >\n",
    "- less than or equal to ====== <=\n",
    "- greater than or equal to ======= >=\n",
    "- not equal to ======== !=\n",
    "- equal to ======== =="
   ]
  },
  {
   "cell_type": "code",
   "execution_count": 118,
   "id": "45a556a7",
   "metadata": {},
   "outputs": [
    {
     "data": {
      "text/plain": [
       "True"
      ]
     },
     "execution_count": 118,
     "metadata": {},
     "output_type": "execute_result"
    }
   ],
   "source": [
    "a>b"
   ]
  },
  {
   "cell_type": "code",
   "execution_count": 119,
   "id": "1dbf5390",
   "metadata": {},
   "outputs": [
    {
     "data": {
      "text/plain": [
       "False"
      ]
     },
     "execution_count": 119,
     "metadata": {},
     "output_type": "execute_result"
    }
   ],
   "source": [
    "a<b"
   ]
  },
  {
   "cell_type": "code",
   "execution_count": 120,
   "id": "883c7f2d",
   "metadata": {},
   "outputs": [
    {
     "data": {
      "text/plain": [
       "True"
      ]
     },
     "execution_count": 120,
     "metadata": {},
     "output_type": "execute_result"
    }
   ],
   "source": [
    "a>=b"
   ]
  },
  {
   "cell_type": "code",
   "execution_count": 121,
   "id": "876115db",
   "metadata": {},
   "outputs": [
    {
     "data": {
      "text/plain": [
       "False"
      ]
     },
     "execution_count": 121,
     "metadata": {},
     "output_type": "execute_result"
    }
   ],
   "source": [
    "a==b"
   ]
  },
  {
   "cell_type": "code",
   "execution_count": 122,
   "id": "f6ececba",
   "metadata": {},
   "outputs": [
    {
     "data": {
      "text/plain": [
       "False"
      ]
     },
     "execution_count": 122,
     "metadata": {},
     "output_type": "execute_result"
    }
   ],
   "source": [
    "a<=b"
   ]
  },
  {
   "cell_type": "code",
   "execution_count": 123,
   "id": "fbc699a0",
   "metadata": {},
   "outputs": [
    {
     "data": {
      "text/plain": [
       "True"
      ]
     },
     "execution_count": 123,
     "metadata": {},
     "output_type": "execute_result"
    }
   ],
   "source": [
    "a!=b"
   ]
  },
  {
   "cell_type": "code",
   "execution_count": 124,
   "id": "2341f88c",
   "metadata": {},
   "outputs": [
    {
     "data": {
      "text/plain": [
       "False"
      ]
     },
     "execution_count": 124,
     "metadata": {},
     "output_type": "execute_result"
    }
   ],
   "source": [
    "a==b"
   ]
  },
  {
   "cell_type": "markdown",
   "id": "65aa46f8",
   "metadata": {},
   "source": [
    "# Logical opertors"
   ]
  },
  {
   "cell_type": "code",
   "execution_count": 1,
   "id": "f0936c95",
   "metadata": {},
   "outputs": [
    {
     "ename": "NameError",
     "evalue": "name 'a' is not defined",
     "output_type": "error",
     "traceback": [
      "\u001b[1;31m---------------------------------------------------------------------------\u001b[0m",
      "\u001b[1;31mNameError\u001b[0m                                 Traceback (most recent call last)",
      "Cell \u001b[1;32mIn[1], line 1\u001b[0m\n\u001b[1;32m----> 1\u001b[0m (a\u001b[38;5;241m<\u001b[39mb) \u001b[38;5;129;01mor\u001b[39;00m (a\u001b[38;5;241m!=\u001b[39mb)\n",
      "\u001b[1;31mNameError\u001b[0m: name 'a' is not defined"
     ]
    }
   ],
   "source": [
    "(a<b) or (a!=b)"
   ]
  },
  {
   "cell_type": "code",
   "execution_count": 127,
   "id": "2babf01e",
   "metadata": {},
   "outputs": [
    {
     "data": {
      "text/plain": [
       "False"
      ]
     },
     "execution_count": 127,
     "metadata": {},
     "output_type": "execute_result"
    }
   ],
   "source": [
    "(a<b) and (a!=b)\n"
   ]
  },
  {
   "cell_type": "code",
   "execution_count": 129,
   "id": "6fd76122",
   "metadata": {},
   "outputs": [
    {
     "data": {
      "text/plain": [
       "True"
      ]
     },
     "execution_count": 129,
     "metadata": {},
     "output_type": "execute_result"
    }
   ],
   "source": [
    "not a<b"
   ]
  },
  {
   "cell_type": "code",
   "execution_count": 130,
   "id": "70d893dd",
   "metadata": {},
   "outputs": [
    {
     "data": {
      "text/plain": [
       "True"
      ]
     },
     "execution_count": 130,
     "metadata": {},
     "output_type": "execute_result"
    }
   ],
   "source": [
    "(a<b) and (a!=b) or (a>b)\n",
    "# False     True       True\n"
   ]
  },
  {
   "cell_type": "code",
   "execution_count": null,
   "id": "d4fcd7b1",
   "metadata": {},
   "outputs": [],
   "source": []
  }
 ],
 "metadata": {
  "kernelspec": {
   "display_name": "Python 3 (ipykernel)",
   "language": "python",
   "name": "python3"
  },
  "language_info": {
   "codemirror_mode": {
    "name": "ipython",
    "version": 3
   },
   "file_extension": ".py",
   "mimetype": "text/x-python",
   "name": "python",
   "nbconvert_exporter": "python",
   "pygments_lexer": "ipython3",
   "version": "3.11.5"
  }
 },
 "nbformat": 4,
 "nbformat_minor": 5
}
