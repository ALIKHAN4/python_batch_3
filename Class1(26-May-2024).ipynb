{
 "cells": [
  {
   "cell_type": "markdown",
   "id": "7399efdc",
   "metadata": {},
   "source": [
    "# Print Function\n"
   ]
  },
  {
   "cell_type": "markdown",
   "id": "d6c32d10",
   "metadata": {},
   "source": [
    "Python:\n",
    "- Interpreted language (line by line execution of code)\n",
    "- Case Sensitive"
   ]
  },
  {
   "cell_type": "code",
   "execution_count": 2,
   "id": "f8f22433",
   "metadata": {},
   "outputs": [
    {
     "name": "stdout",
     "output_type": "stream",
     "text": [
      "Welcome the new class\n"
     ]
    }
   ],
   "source": [
    "print('Welcome the new class')"
   ]
  },
  {
   "cell_type": "code",
   "execution_count": 5,
   "id": "885aad31",
   "metadata": {},
   "outputs": [
    {
     "name": "stdout",
     "output_type": "stream",
     "text": [
      "My Name is Ali Khan\n"
     ]
    }
   ],
   "source": [
    "print('My Name is Ali Khan')"
   ]
  },
  {
   "cell_type": "code",
   "execution_count": 1,
   "id": "0e95e8c5",
   "metadata": {},
   "outputs": [
    {
     "name": "stdout",
     "output_type": "stream",
     "text": [
      "12\n"
     ]
    }
   ],
   "source": [
    "print(12)"
   ]
  },
  {
   "cell_type": "code",
   "execution_count": 8,
   "id": "096fdd72",
   "metadata": {},
   "outputs": [
    {
     "name": "stdout",
     "output_type": "stream",
     "text": [
      "my name is ali khan\n"
     ]
    }
   ],
   "source": [
    "print('my name is ali khan')"
   ]
  },
  {
   "cell_type": "code",
   "execution_count": 9,
   "id": "11c6a5bd",
   "metadata": {},
   "outputs": [
    {
     "name": "stdout",
     "output_type": "stream",
     "text": [
      "123\n"
     ]
    }
   ],
   "source": [
    "print(123)"
   ]
  },
  {
   "cell_type": "code",
   "execution_count": 10,
   "id": "aed4beab",
   "metadata": {},
   "outputs": [
    {
     "name": "stdout",
     "output_type": "stream",
     "text": [
      "12.2\n"
     ]
    }
   ],
   "source": [
    "print(12.2)"
   ]
  },
  {
   "cell_type": "code",
   "execution_count": 11,
   "id": "3f225858",
   "metadata": {},
   "outputs": [
    {
     "name": "stdout",
     "output_type": "stream",
     "text": [
      "True\n"
     ]
    }
   ],
   "source": [
    "print(True)"
   ]
  },
  {
   "cell_type": "code",
   "execution_count": 12,
   "id": "3822c2ff",
   "metadata": {},
   "outputs": [
    {
     "name": "stdout",
     "output_type": "stream",
     "text": [
      "False\n"
     ]
    }
   ],
   "source": [
    "print(False)"
   ]
  },
  {
   "cell_type": "code",
   "execution_count": 13,
   "id": "ff7b5242",
   "metadata": {},
   "outputs": [
    {
     "name": "stdout",
     "output_type": "stream",
     "text": [
      "True\n"
     ]
    }
   ],
   "source": [
    "print('True')"
   ]
  },
  {
   "cell_type": "code",
   "execution_count": 14,
   "id": "b0feb8ec",
   "metadata": {},
   "outputs": [
    {
     "name": "stdout",
     "output_type": "stream",
     "text": [
      "2\n"
     ]
    }
   ],
   "source": [
    "print('2')"
   ]
  },
  {
   "cell_type": "code",
   "execution_count": 15,
   "id": "57a63ff0",
   "metadata": {},
   "outputs": [
    {
     "name": "stdout",
     "output_type": "stream",
     "text": [
      "2\n"
     ]
    }
   ],
   "source": [
    "print(2)"
   ]
  },
  {
   "cell_type": "code",
   "execution_count": 16,
   "id": "fcf6f540",
   "metadata": {},
   "outputs": [
    {
     "name": "stdout",
     "output_type": "stream",
     "text": [
      "4\n"
     ]
    }
   ],
   "source": [
    "print(2+2)"
   ]
  },
  {
   "cell_type": "code",
   "execution_count": 18,
   "id": "e51668cb",
   "metadata": {},
   "outputs": [
    {
     "name": "stdout",
     "output_type": "stream",
     "text": [
      "2+2\n"
     ]
    }
   ],
   "source": [
    "print('2+2')"
   ]
  },
  {
   "cell_type": "code",
   "execution_count": 20,
   "id": "fcc72143",
   "metadata": {},
   "outputs": [
    {
     "name": "stdout",
     "output_type": "stream",
     "text": [
      "Ali khan\n",
      "12\n",
      "12.2\n",
      "True\n",
      "4\n"
     ]
    }
   ],
   "source": [
    "print('Ali khan')\n",
    "print(12)\n",
    "print(12.2)\n",
    "print(True)\n",
    "print(2+2)"
   ]
  },
  {
   "cell_type": "code",
   "execution_count": 21,
   "id": "fd3cfd43",
   "metadata": {},
   "outputs": [
    {
     "name": "stdout",
     "output_type": "stream",
     "text": [
      "Ali Khan 12 12.3 True 4\n"
     ]
    }
   ],
   "source": [
    "print('Ali Khan',12,12.3,True,2+2)"
   ]
  },
  {
   "cell_type": "markdown",
   "id": "c2d22561",
   "metadata": {},
   "source": [
    "## sep parameter"
   ]
  },
  {
   "cell_type": "code",
   "execution_count": 22,
   "id": "3797ac11",
   "metadata": {},
   "outputs": [
    {
     "name": "stdout",
     "output_type": "stream",
     "text": [
      "Ali Khan1212.3True4\n"
     ]
    }
   ],
   "source": [
    "print('Ali Khan',12,12.3,True,2+2, sep='')"
   ]
  },
  {
   "cell_type": "code",
   "execution_count": 23,
   "id": "395e00fa",
   "metadata": {},
   "outputs": [
    {
     "name": "stdout",
     "output_type": "stream",
     "text": [
      "Ali Khan--------12--------12.3--------True--------4\n"
     ]
    }
   ],
   "source": [
    "print('Ali Khan',12,12.3,True,2+2, sep='--------')"
   ]
  },
  {
   "cell_type": "code",
   "execution_count": 27,
   "id": "f20c8705",
   "metadata": {},
   "outputs": [
    {
     "name": "stdout",
     "output_type": "stream",
     "text": [
      "Ali Khan--------12--------12.3--------True--------4\n"
     ]
    }
   ],
   "source": [
    "print('Ali Khan',12,12.3,True,2+2, sep='--------')"
   ]
  },
  {
   "cell_type": "markdown",
   "id": "46721e4f",
   "metadata": {},
   "source": [
    "## end parameter in print"
   ]
  },
  {
   "cell_type": "code",
   "execution_count": 37,
   "id": "aaae5e91",
   "metadata": {},
   "outputs": [
    {
     "name": "stdout",
     "output_type": "stream",
     "text": [
      "Ali khan\t12\n",
      "12.2\n",
      "True\n",
      "4\n"
     ]
    }
   ],
   "source": [
    "print('Ali khan', end='\\t')\n",
    "print(12)\n",
    "print(12.2)\n",
    "print(True)\n",
    "print(2+2)"
   ]
  },
  {
   "cell_type": "code",
   "execution_count": 40,
   "id": "6d4587aa",
   "metadata": {},
   "outputs": [
    {
     "name": "stdout",
     "output_type": "stream",
     "text": [
      "Ali Khan\n",
      "12\n",
      "12.3\n",
      "True\n",
      "4\n"
     ]
    }
   ],
   "source": [
    "print('Ali Khan',12,12.3,True,2+2, sep='\\n')\n"
   ]
  },
  {
   "cell_type": "code",
   "execution_count": 14,
   "id": "1bbb4345",
   "metadata": {},
   "outputs": [],
   "source": [
    "a = 10"
   ]
  },
  {
   "cell_type": "code",
   "execution_count": 15,
   "id": "ebb0a41d",
   "metadata": {},
   "outputs": [
    {
     "data": {
      "text/plain": [
       "140733894267976"
      ]
     },
     "execution_count": 15,
     "metadata": {},
     "output_type": "execute_result"
    }
   ],
   "source": [
    "id(a)"
   ]
  },
  {
   "cell_type": "code",
   "execution_count": 16,
   "id": "fcbce74b",
   "metadata": {},
   "outputs": [],
   "source": [
    "a = 'ali khan '"
   ]
  },
  {
   "cell_type": "code",
   "execution_count": 17,
   "id": "1a063133",
   "metadata": {},
   "outputs": [
    {
     "data": {
      "text/plain": [
       "2264677960560"
      ]
     },
     "execution_count": 17,
     "metadata": {},
     "output_type": "execute_result"
    }
   ],
   "source": [
    "id(a)"
   ]
  },
  {
   "cell_type": "code",
   "execution_count": 18,
   "id": "6c53cc4e",
   "metadata": {},
   "outputs": [],
   "source": [
    "a = 10 "
   ]
  },
  {
   "cell_type": "code",
   "execution_count": 19,
   "id": "15dfa60d",
   "metadata": {},
   "outputs": [
    {
     "data": {
      "text/plain": [
       "140733894267976"
      ]
     },
     "execution_count": 19,
     "metadata": {},
     "output_type": "execute_result"
    }
   ],
   "source": [
    "id(a)"
   ]
  },
  {
   "cell_type": "code",
   "execution_count": 20,
   "id": "cc8a6e7b",
   "metadata": {},
   "outputs": [],
   "source": [
    "b = 10"
   ]
  },
  {
   "cell_type": "code",
   "execution_count": 22,
   "id": "f8ede41f",
   "metadata": {},
   "outputs": [
    {
     "data": {
      "text/plain": [
       "140733894267976"
      ]
     },
     "execution_count": 22,
     "metadata": {},
     "output_type": "execute_result"
    }
   ],
   "source": [
    "id(b)"
   ]
  },
  {
   "cell_type": "code",
   "execution_count": 24,
   "id": "16956153",
   "metadata": {},
   "outputs": [
    {
     "name": "stdout",
     "output_type": "stream",
     "text": [
      "140733894267976\n",
      "140733894267976\n"
     ]
    }
   ],
   "source": [
    "print(id(a))\n",
    "print(id(b))"
   ]
  },
  {
   "cell_type": "code",
   "execution_count": null,
   "id": "b08c5a6f",
   "metadata": {},
   "outputs": [],
   "source": []
  }
 ],
 "metadata": {
  "kernelspec": {
   "display_name": "Python 3 (ipykernel)",
   "language": "python",
   "name": "python3"
  },
  "language_info": {
   "codemirror_mode": {
    "name": "ipython",
    "version": 3
   },
   "file_extension": ".py",
   "mimetype": "text/x-python",
   "name": "python",
   "nbconvert_exporter": "python",
   "pygments_lexer": "ipython3",
   "version": "3.11.5"
  }
 },
 "nbformat": 4,
 "nbformat_minor": 5
}
