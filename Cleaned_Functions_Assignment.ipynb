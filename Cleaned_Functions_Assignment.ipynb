{
 "cells": [
  {
   "cell_type": "markdown",
   "id": "5c5ef51c",
   "metadata": {},
   "source": [
    "# Functions Assignments"
   ]
  },
  {
   "cell_type": "markdown",
   "id": "c548a3bf",
   "metadata": {},
   "source": [
    "## Define a function named addition that takes two parameters a and b and returns their sum.\n",
    "\n",
    "- Input: addition(3, 5)\n",
    "- Output: 8"
   ]
  },
  {
   "cell_type": "markdown",
   "id": "edbcab81",
   "metadata": {},
   "source": [
    "## Write a function called multiply that accepts two arguments and returns the result of multiplying them together.\n",
    "\n",
    "- Input: multiply(4, 6)\n",
    "- Output: 24"
   ]
  },
  {
   "cell_type": "markdown",
   "id": "1f0e888d",
   "metadata": {},
   "source": [
    "## Create a function named power that takes two parameters: base and exponent, and returns base raised to the power of exponent.\n",
    "\n",
    "- Input: power(2, 3)\n",
    "- Output: 8"
   ]
  },
  {
   "cell_type": "markdown",
   "id": "2a0256a1",
   "metadata": {},
   "source": [
    "## Define a function named is_even that takes an integer parameter num and returns True if the number is even, otherwise False.\n",
    "\n",
    "- Input: is_even(7)\n",
    "- Output: False"
   ]
  },
  {
   "cell_type": "markdown",
   "id": "c5ee8e64",
   "metadata": {},
   "source": [
    "## Write a function called factorial that calculates the factorial of a given number n.\n",
    "\n",
    "- Input: factorial(5)\n",
    "- Output: 120"
   ]
  },
  {
   "cell_type": "markdown",
   "id": "ccb2e052",
   "metadata": {},
   "source": [
    "## Create a function named is_palindrome that takes a string parameter text and returns True if the text is a palindrome, otherwise False.\n",
    "\n",
    "- Input: is_palindrome(\"radar\")\n",
    "- Output: True\n",
    "\n",
    "- Note: A palindrome is a word, phrase, number, or other sequence of characters that reads the same forward and backward.Example: \"radar\" is a palindrome because it reads the same forward and backward."
   ]
  },
  {
   "cell_type": "markdown",
   "id": "b48d35b2",
   "metadata": {},
   "source": [
    "## Define a function named unique_elements that takes a list parameter lst and returns a list contaiinng only the unique elements of the input list.\n",
    "`\n",
    "- Input: unique_elements([1, 2, 3, 3, 4, 5, 5])\n",
    "- Output: [1, 2, 3, 4, 5]"
   ]
  },
  {
   "cell_type": "markdown",
   "id": "79be0766",
   "metadata": {},
   "source": [
    "## Write a function called average that calculates the average of a list of numbers passed as a parameter.\n",
    "\n",
    "- Input: average([1, 2, 3, 4, 5])\n",
    "- Output: 3.0"
   ]
  },
  {
   "cell_type": "markdown",
   "id": "d231e8ad",
   "metadata": {},
   "source": [
    "## Create a function named is_prime that takes an integer parameter num and returns True if the number is prime, otherwise False.\n",
    "\n",
    "- Input: is_prime(7)\n",
    "- Output: True"
   ]
  },
  {
   "cell_type": "markdown",
   "id": "5703b54e",
   "metadata": {},
   "source": [
    "## Define a function named reverse_list that takes a list parameter lst and returns a new list with the elements reversed.\n",
    "\n",
    "- Input: reverse_list([1, 2, 3, 4, 5])\n",
    "- Output: [5, 4, 3, 2, 1]"
   ]
  },
  {
   "cell_type": "markdown",
   "id": "6caecb2e",
   "metadata": {},
   "source": [
    "## Write a Python program to print the even numbers from a given list.\n",
    "\n",
    "- Sample List : [1, 2, 3, 4, 5, 6, 7, 8, 9]\n",
    "- Expected Result : [2, 4, 6, 8]"
   ]
  },
  {
   "cell_type": "markdown",
   "id": "98becd65",
   "metadata": {},
   "source": [
    "## Write a Python function that accepts a string and counts the number of upper and lower case letters.\n",
    "Sample String : 'The quick Brow Fox'\n",
    "    \n",
    "- Expected Output :\n",
    "- No. of Upper case characters : 3\n",
    "- No. of Lower case Characters : 12"
   ]
  },
  {
   "cell_type": "code",
   "execution_count": 59,
   "id": "42c3ac34",
   "metadata": {},
   "outputs": [
    {
     "name": "stdout",
     "output_type": "stream",
     "text": [
      " \n",
      "Upper Case Characters: 3\n",
      "Lower Case Characters: 13\n",
      "\n"
     ]
    }
   ],
   "source": [
    "def count_char(string):\n",
    "    upper = 0\n",
    "    lower = 0\n",
    "    for char in string:\n",
    "        if char.isupper():\n",
    "            upper += 1\n",
    "        elif char.islower(): \n",
    "            lower += 1\n",
    "            \n",
    "    print(f''' \n",
    "Upper Case Characters: {upper}\n",
    "Lower Case Characters: {lower}\n",
    "''')\n",
    "count_char('The quick Brown Fox')\n"
   ]
  },
  {
   "cell_type": "markdown",
   "id": "d6ce8996",
   "metadata": {},
   "source": [
    "## Write a Python function to multiply all the numbers in a list.\n",
    "\n",
    "- Sample List : (8, 2, 3, -1, 7)\n",
    "- Expected Output : -336"
   ]
  },
  {
   "cell_type": "code",
   "execution_count": 17,
   "id": "c2d1f224",
   "metadata": {},
   "outputs": [
    {
     "ename": "NameError",
     "evalue": "name 'resultj' is not defined",
     "output_type": "error",
     "traceback": [
      "\u001b[1;31m---------------------------------------------------------------------------\u001b[0m",
      "\u001b[1;31mNameError\u001b[0m                                 Traceback (most recent call last)",
      "Cell \u001b[1;32mIn[17], line 7\u001b[0m\n\u001b[0;32m      4\u001b[0m         result \u001b[38;5;241m*\u001b[39m\u001b[38;5;241m=\u001b[39m num\n\u001b[0;32m      5\u001b[0m     \u001b[38;5;28;01mreturn\u001b[39;00m resultj\n\u001b[1;32m----> 7\u001b[0m product([\u001b[38;5;241m1\u001b[39m,\u001b[38;5;241m2\u001b[39m,\u001b[38;5;241m3\u001b[39m,\u001b[38;5;241m4\u001b[39m])\n",
      "Cell \u001b[1;32mIn[17], line 5\u001b[0m, in \u001b[0;36mproduct\u001b[1;34m(lst)\u001b[0m\n\u001b[0;32m      3\u001b[0m \u001b[38;5;28;01mfor\u001b[39;00m num \u001b[38;5;129;01min\u001b[39;00m lst:\n\u001b[0;32m      4\u001b[0m     result \u001b[38;5;241m*\u001b[39m\u001b[38;5;241m=\u001b[39m num\n\u001b[1;32m----> 5\u001b[0m \u001b[38;5;28;01mreturn\u001b[39;00m resultj\n",
      "\u001b[1;31mNameError\u001b[0m: name 'resultj' is not defined"
     ]
    }
   ],
   "source": [
    "def product(lst):\n",
    "    result = 1\n",
    "    for num in lst:\n",
    "        result *= num\n",
    "    return resultj\n",
    "\n",
    "product([1,2,3,4])"
   ]
  },
  {
   "cell_type": "markdown",
   "id": "c1909bdd",
   "metadata": {},
   "source": [
    "## Write a Python program for a given string S which may contain lowercase and uppercase characters. The task is to remove all duplicate characters from the string and find the resultant string.\n",
    "\n",
    "- Input: Str = HappyNewYear\n",
    "- Output: HyNYwr\n",
    "- Explanation: After removing duplicate characters such as p, e, a, we have string as “HapyNewYr”."
   ]
  },
  {
   "cell_type": "code",
   "execution_count": 2,
   "id": "4fe550f7",
   "metadata": {},
   "outputs": [
    {
     "data": {
      "text/plain": [
       "'HyNwYr'"
      ]
     },
     "execution_count": 2,
     "metadata": {},
     "output_type": "execute_result"
    }
   ],
   "source": [
    "def remove(string):\n",
    "    result = ''\n",
    "    for char in string:\n",
    "        if string.count(char) == 1:\n",
    "            result += char\n",
    "    return result\n",
    "\n",
    "remove('HappyNewYear')"
   ]
  },
  {
   "cell_type": "code",
   "execution_count": 5,
   "id": "6965592a",
   "metadata": {},
   "outputs": [
    {
     "data": {
      "text/plain": [
       "'hnwr'"
      ]
     },
     "execution_count": 5,
     "metadata": {},
     "output_type": "execute_result"
    }
   ],
   "source": [
    "def remove(string):\n",
    "    result = ''\n",
    "    string = string.lower()\n",
    "    for char in string:\n",
    "        if string.count(char) == 1:\n",
    "            result += char\n",
    "    return result\n",
    "\n",
    "remove('HappyNewYear')"
   ]
  },
  {
   "cell_type": "markdown",
   "id": "9d6cd084",
   "metadata": {},
   "source": [
    "## Define a function named square_dict that takes a list of integers as input and returns a dictionary where each key-value pair consists of an element from the input list as the key and its square as the value.\n",
    "\n",
    "- Input: [1, 2, 3, 4, 5]\n",
    "- Output: {1: 1, 2: 4, 3: 9, 4: 16, 5: 25}\n",
    "- Note: You can use dictionary comprehension for better practices "
   ]
  },
  {
   "cell_type": "code",
   "execution_count": 50,
   "id": "01c86990",
   "metadata": {},
   "outputs": [
    {
     "data": {
      "text/plain": [
       "{1: 1, 2: 4, 3: 9, 4: 16, 5: 25}"
      ]
     },
     "execution_count": 50,
     "metadata": {},
     "output_type": "execute_result"
    }
   ],
   "source": [
    "def square(lst):\n",
    "    dic = {}\n",
    "    for i in lst:\n",
    "        dic[i] = i**2\n",
    "    return dic\n",
    "\n",
    "square([1,2,3,4,5])"
   ]
  },
  {
   "cell_type": "code",
   "execution_count": 55,
   "id": "5a43a807",
   "metadata": {},
   "outputs": [
    {
     "data": {
      "text/plain": [
       "{1, 4, 9, 16, 25}"
      ]
     },
     "execution_count": 55,
     "metadata": {},
     "output_type": "execute_result"
    }
   ],
   "source": [
    "def square(lst):\n",
    "    return {i:i**2 for i in lst}\n",
    "\n",
    "square([1,2,3,4,5])"
   ]
  },
  {
   "cell_type": "markdown",
   "id": "a572346f",
   "metadata": {},
   "source": [
    "## Given a list in Python and provided the positions of the elements, write a fucntion to swap the two elements in the list.\n",
    "\n",
    "- Input : List = [1, 2, 3, 4, 5], pos1 = 2, pos2 = 5\n",
    "- Output : [1, 5, 3, 4, 2]"
   ]
  },
  {
   "cell_type": "code",
   "execution_count": 47,
   "id": "5d0385f4",
   "metadata": {},
   "outputs": [
    {
     "data": {
      "text/plain": [
       "[1, 5, 3, 4, 2]"
      ]
     },
     "execution_count": 47,
     "metadata": {},
     "output_type": "execute_result"
    }
   ],
   "source": [
    "# num = [1,2,3,4,5]\n",
    "def swap_list(lst, pos1, pos2):\n",
    "    lst[pos1-1] , lst[pos2-1] = lst[pos2-1], lst[pos1-1]\n",
    "    return lst\n",
    "\n",
    "swap_list([1,2,3,4,5], 2,5)\n"
   ]
  },
  {
   "cell_type": "markdown",
   "id": "e924dbe4",
   "metadata": {},
   "source": [
    "## Write a python function to remove a letter \"e\" from the string \"elephant\".\n",
    "\n",
    "- output = 'lphant' (all 'e' characters are removed)"
   ]
  },
  {
   "cell_type": "code",
   "execution_count": 42,
   "id": "8208383f",
   "metadata": {},
   "outputs": [
    {
     "data": {
      "text/plain": [
       "'lphant'"
      ]
     },
     "execution_count": 42,
     "metadata": {},
     "output_type": "execute_result"
    }
   ],
   "source": [
    "def remove_char(string,char):\n",
    "    return ''.join([i for i in string if i != char])\n",
    "\n",
    "remove_char('elephant', 'e')"
   ]
  },
  {
   "cell_type": "code",
   "execution_count": 36,
   "id": "436dbb98",
   "metadata": {},
   "outputs": [
    {
     "data": {
      "text/plain": [
       "'lphant'"
      ]
     },
     "execution_count": 36,
     "metadata": {},
     "output_type": "execute_result"
    }
   ],
   "source": [
    "def remove_letter(string, char):\n",
    "    result = ''\n",
    "    for i in string:\n",
    "        if i != char:\n",
    "            result += i\n",
    "    return result\n",
    "\n",
    "remove_letter('elephant', 'e')"
   ]
  },
  {
   "cell_type": "code",
   "execution_count": 35,
   "id": "62e35573",
   "metadata": {},
   "outputs": [
    {
     "data": {
      "text/plain": [
       "'lphant'"
      ]
     },
     "execution_count": 35,
     "metadata": {},
     "output_type": "execute_result"
    }
   ],
   "source": [
    "def remove(string, char):\n",
    "    return string.replace(char, '')\n",
    "\n",
    "remove('elephant', 'e')"
   ]
  },
  {
   "cell_type": "markdown",
   "id": "11cb9b97",
   "metadata": {},
   "source": [
    "## Write a python function to remove duplicate character from a string.\n",
    "\n",
    "- Input: 'levels'\n",
    "- output: 'vs' (l and e are removed since they are repeating characters in the string)"
   ]
  },
  {
   "cell_type": "code",
   "execution_count": 34,
   "id": "abe9041b",
   "metadata": {},
   "outputs": [
    {
     "data": {
      "text/plain": [
       "'vs'"
      ]
     },
     "execution_count": 34,
     "metadata": {},
     "output_type": "execute_result"
    }
   ],
   "source": [
    "def remove_char(text):\n",
    "    result = ''\n",
    "    for char in text:\n",
    "        if text.count(char) == 1:\n",
    "            # result = result + char\n",
    "            result += char \n",
    "            \n",
    "    return result\n",
    "\n",
    "remove_char('levels')"
   ]
  },
  {
   "cell_type": "markdown",
   "id": "f60edec7",
   "metadata": {},
   "source": [
    "## Write a python function to count the frequencies of each character in the given string and stored it in a dictionary format.\n",
    "\n",
    "- Input: 'listen'\n",
    "- Output : {'l':1, 'i':1, 's':1, 't':1, 'e':1, 'n':1}"
   ]
  },
  {
   "cell_type": "code",
   "execution_count": 30,
   "id": "8c346af3",
   "metadata": {},
   "outputs": [
    {
     "data": {
      "text/plain": [
       "{'e': 2, 'l': 1, 'p': 1, 'h': 1, 'a': 1, 'n': 1, 't': 1}"
      ]
     },
     "execution_count": 30,
     "metadata": {},
     "output_type": "execute_result"
    }
   ],
   "source": [
    "def char_count(text):\n",
    "    return {char : text.count(char) for char in text}\n",
    "\n",
    "char_count('elephant')"
   ]
  },
  {
   "cell_type": "code",
   "execution_count": 28,
   "id": "81e6a4cd",
   "metadata": {},
   "outputs": [
    {
     "data": {
      "text/plain": [
       "1"
      ]
     },
     "execution_count": 28,
     "metadata": {},
     "output_type": "execute_result"
    }
   ],
   "source": [
    "{'name': 'ali khan'}"
   ]
  },
  {
   "cell_type": "markdown",
   "id": "eb915380",
   "metadata": {},
   "source": [
    "## Write a Python function named get_initials that takes a string as input and returns the initials of each word in the string, separated by dots.\n",
    "\n",
    "- Input: \"John Doe\"\n",
    "- Output: \"J.D\"`"
   ]
  },
  {
   "cell_type": "code",
   "execution_count": 17,
   "id": "f1f2050a",
   "metadata": {},
   "outputs": [
    {
     "data": {
      "text/plain": [
       "'A.K'"
      ]
     },
     "execution_count": 17,
     "metadata": {},
     "output_type": "execute_result"
    }
   ],
   "source": [
    "def get_initials(name):\n",
    "    return '.'.join([word[0].upper() for word in name.split()])\n",
    "\n",
    "get_initials('ali khan')"
   ]
  },
  {
   "cell_type": "markdown",
   "id": "7c3464da",
   "metadata": {},
   "source": [
    "# Problem: Write a function that groups keys of a dictionary based on their values.\n",
    "- Input: {'a': 10, 'b': 20, 'c': 10, 'd': 30}\n",
    "- Output: {10: ['a', 'c'], 20: ['b'], 30: ['d']} \n"
   ]
  },
  {
   "cell_type": "code",
   "execution_count": 5,
   "id": "585d4a63",
   "metadata": {},
   "outputs": [
    {
     "data": {
      "text/plain": [
       "{10: ['a', 'c'], 20: ['b'], 30: ['d']}"
      ]
     },
     "execution_count": 5,
     "metadata": {},
     "output_type": "execute_result"
    }
   ],
   "source": [
    "def grouped_dict(dic):\n",
    "    result = {}\n",
    "    for key,value in dic.items():\n",
    "        if value not in result:\n",
    "            result[value] = [key]\n",
    "        else:\n",
    "            result[value].append(key)\n",
    "    return result\n",
    "\n",
    "grouped_dict({'a': 10, 'b': 20, 'c': 10, 'd': 30})\n",
    "        \n",
    "# dic = {'a': 10, 'b': 20, 'c': 10, 'd': 30}\n",
    "# dic.items()"
   ]
  },
  {
   "cell_type": "code",
   "execution_count": 3,
   "id": "4b14b18e",
   "metadata": {},
   "outputs": [
    {
     "data": {
      "text/plain": [
       "10"
      ]
     },
     "execution_count": 3,
     "metadata": {},
     "output_type": "execute_result"
    }
   ],
   "source": [
    "dic = {'a': 10, 'b': 20, 'c': 10, 'd': 30}\n",
    "dic['a']\n"
   ]
  }
 ],
 "metadata": {
  "kernelspec": {
   "display_name": "base",
   "language": "python",
   "name": "python3"
  },
  "language_info": {
   "codemirror_mode": {
    "name": "ipython",
    "version": 3
   },
   "file_extension": ".py",
   "mimetype": "text/x-python",
   "name": "python",
   "nbconvert_exporter": "python",
   "pygments_lexer": "ipython3",
   "version": "3.11.5"
  }
 },
 "nbformat": 4,
 "nbformat_minor": 5
}
